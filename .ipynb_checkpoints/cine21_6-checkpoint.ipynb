{
 "cells": [
  {
   "cell_type": "markdown",
   "id": "d29dd77c",
   "metadata": {},
   "source": [
    "### 6. 배우 흥행 지수와 출연 영화 추출"
   ]
  },
  {
   "cell_type": "code",
   "execution_count": 1,
   "id": "2a9f8a88",
   "metadata": {},
   "outputs": [],
   "source": [
    "from bs4 import BeautifulSoup\n",
    "import requests\n",
    "import re\n",
    "\n",
    "cine21_url = 'http://www.cine21.com/rank/person/content'\n",
    "post_data = dict()\n",
    "post_data['section']='actor'\n",
    "post_data['period_start']='2020-12'\n",
    "post_data['gender']='all'\n",
    "post_data['page']=1\n",
    "\n",
    "res = requests.post(cine21_url, data=post_data)\n",
    "soup = BeautifulSoup(res.content, 'html.parser')"
   ]
  },
  {
   "cell_type": "markdown",
   "id": "62b662ff",
   "metadata": {},
   "source": [
    "#### - 이름과 흥행지수 데이터 뽑기"
   ]
  },
  {
   "cell_type": "code",
   "execution_count": 2,
   "id": "25813aed",
   "metadata": {},
   "outputs": [
    {
     "name": "stdout",
     "output_type": "stream",
     "text": [
      "[<a href=\"/db/person/info/?person_id=57423\">김윤석(6편)</a>, <a href=\"/db/person/info/?person_id=16259\">조인성(2편)</a>, <a href=\"/db/person/info/?person_id=2425\">허준호(2편)</a>, <a href=\"/db/person/info/?person_id=82573\">김소진(4편)</a>, <a href=\"/db/person/info/?person_id=98611\">조우진(7편)</a>, <a href=\"/db/person/info/?person_id=14268\">황정민(5편)</a>, <a href=\"/db/person/info/?person_id=64972\">정만식(4편)</a>]\n",
      "[<strong>45,708</strong>, <strong>39,995</strong>, <strong>34,251</strong>, <strong>28,556</strong>, <strong>26,118</strong>, <strong>24,260</strong>, <strong>22,847</strong>]\n"
     ]
    }
   ],
   "source": [
    "actors = soup.select('li.people_li div.name > a') \n",
    "hits = soup.select('ul.num_info > li > strong')\n",
    "print(actors)\n",
    "print(hits)"
   ]
  },
  {
   "cell_type": "code",
   "execution_count": 3,
   "id": "49e22ad1",
   "metadata": {},
   "outputs": [
    {
     "name": "stdout",
     "output_type": "stream",
     "text": [
      "김윤석\n",
      "45,708\n",
      "조인성\n",
      "39,995\n",
      "허준호\n",
      "34,251\n",
      "김소진\n",
      "28,556\n",
      "조우진\n",
      "26,118\n",
      "황정민\n",
      "24,260\n",
      "정만식\n",
      "22,847\n"
     ]
    }
   ],
   "source": [
    "actors = soup.select('li.people_li div.name > a') \n",
    "hits = soup.select('ul.num_info > li > strong')\n",
    "for index,actor in enumerate(actors):\n",
    "    print((re.sub('\\(\\w*\\)', '', actor.text))) # 배우이름\n",
    "    print(hits[index].text) # 흥행지수"
   ]
  },
  {
   "cell_type": "markdown",
   "id": "77965403",
   "metadata": {},
   "source": [
    "#### - 이름, 흥행지수, 출연영화 데이터 뽑기"
   ]
  },
  {
   "cell_type": "code",
   "execution_count": 4,
   "id": "f82af6e4",
   "metadata": {},
   "outputs": [
    {
     "name": "stdout",
     "output_type": "stream",
     "text": [
      "김윤석\n",
      "45,708\n",
      "[<span>모가디슈</span>, <span>타짜</span>, <span>당신, 거기 있어줄래요</span>, <span>화이 : 괴물을 삼킨 아이</span>, <span>미성년</span>, <span>1987</span>]\n",
      "조인성\n",
      "39,995\n",
      "[<span>모가디슈</span>, <span>클래식</span>]\n",
      "허준호\n",
      "34,251\n",
      "[<span>모가디슈</span>, <span>국가부도의 날</span>]\n",
      "김소진\n",
      "28,556\n",
      "[<span>모가디슈</span>, <span>스프링 송</span>, <span>아이 캔 스피크</span>, <span>미성년</span>]\n",
      "조우진\n",
      "26,118\n",
      "[<span>발신제한</span>, <span>도굴</span>, <span>킹메이커</span>, <span>서복</span>, <span>국가부도의 날</span>, <span>봉오동 전투</span>]\n",
      "황정민\n",
      "24,260\n",
      "[<span>인질</span>, <span>와이키키 브라더스</span>, <span>바람난 가족</span>, <span>신세계</span>, <span>내 생애 가장 아름다운 일주일</span>]\n",
      "정만식\n",
      "22,847\n",
      "[<span>모가디슈</span>, <span>지푸라기라도 잡고 싶은 짐승들</span>, <span>똥파리</span>, <span>끝까지 간다</span>]\n"
     ]
    }
   ],
   "source": [
    "actors = soup.select('li.people_li div.name > a') \n",
    "hits = soup.select('ul.num_info > li > strong')\n",
    "movies = soup.select('ul.mov_list')\n",
    "for index,actor in enumerate(actors):\n",
    "    print((re.sub('\\(\\w*\\)', '', actor.text)))\n",
    "    print(hits[index].text)\n",
    "    # 각 배우마다 출연영화가 <li.people_li> 리스트로 나뉘어져 있고  \n",
    "    # 영화 별로 <ul,mov_list>리스트로 나뉘어져 있음\n",
    "    movie_titles = movies[index].select('li a span') \n",
    "    print(movie_titles)\n",
    "    "
   ]
  },
  {
   "cell_type": "code",
   "execution_count": 5,
   "id": "3e3cdc51",
   "metadata": {},
   "outputs": [
    {
     "name": "stdout",
     "output_type": "stream",
     "text": [
      "김윤석\n",
      "45,708\n",
      "모가디슈\n",
      "타짜\n",
      "당신, 거기 있어줄래요\n",
      "화이 : 괴물을 삼킨 아이\n",
      "미성년\n",
      "1987\n",
      "조인성\n",
      "39,995\n",
      "모가디슈\n",
      "클래식\n",
      "허준호\n",
      "34,251\n",
      "모가디슈\n",
      "국가부도의 날\n",
      "김소진\n",
      "28,556\n",
      "모가디슈\n",
      "스프링 송\n",
      "아이 캔 스피크\n",
      "미성년\n",
      "조우진\n",
      "26,118\n",
      "발신제한\n",
      "도굴\n",
      "킹메이커\n",
      "서복\n",
      "국가부도의 날\n",
      "봉오동 전투\n",
      "황정민\n",
      "24,260\n",
      "인질\n",
      "와이키키 브라더스\n",
      "바람난 가족\n",
      "신세계\n",
      "내 생애 가장 아름다운 일주일\n",
      "정만식\n",
      "22,847\n",
      "모가디슈\n",
      "지푸라기라도 잡고 싶은 짐승들\n",
      "똥파리\n",
      "끝까지 간다\n"
     ]
    }
   ],
   "source": [
    "actors = soup.select('li.people_li div.name > a') \n",
    "hits = soup.select('ul.num_info > li > strong')\n",
    "movies = soup.select('ul.mov_list')\n",
    "for index,actor in enumerate(actors):\n",
    "    print((re.sub('\\(\\w*\\)', '', actor.text)))\n",
    "    print(hits[index].text)\n",
    "    movie_titles = movies[index].select('li a span') \n",
    "    for movie_title in movie_titles:\n",
    "        print(movie_title.text)"
   ]
  },
  {
   "cell_type": "code",
   "execution_count": 6,
   "id": "c3d81f03",
   "metadata": {},
   "outputs": [
    {
     "name": "stdout",
     "output_type": "stream",
     "text": [
      "배우이름: 김윤석\n",
      "흥행지수: 45708\n",
      "출연영화: ['모가디슈', '타짜', '당신, 거기 있어줄래요', '화이 : 괴물을 삼킨 아이', '미성년', '1987']\n",
      "배우이름: 조인성\n",
      "흥행지수: 39995\n",
      "출연영화: ['모가디슈', '클래식']\n",
      "배우이름: 허준호\n",
      "흥행지수: 34251\n",
      "출연영화: ['모가디슈', '국가부도의 날']\n",
      "배우이름: 김소진\n",
      "흥행지수: 28556\n",
      "출연영화: ['모가디슈', '스프링 송', '아이 캔 스피크', '미성년']\n",
      "배우이름: 조우진\n",
      "흥행지수: 26118\n",
      "출연영화: ['발신제한', '도굴', '킹메이커', '서복', '국가부도의 날', '봉오동 전투']\n",
      "배우이름: 황정민\n",
      "흥행지수: 24260\n",
      "출연영화: ['인질', '와이키키 브라더스', '바람난 가족', '신세계', '내 생애 가장 아름다운 일주일']\n",
      "배우이름: 정만식\n",
      "흥행지수: 22847\n",
      "출연영화: ['모가디슈', '지푸라기라도 잡고 싶은 짐승들', '똥파리', '끝까지 간다']\n"
     ]
    }
   ],
   "source": [
    "actors = soup.select('li.people_li div.name > a') # 배우이름\n",
    "hits = soup.select('ul.num_info > li > strong') # 흥행지수\n",
    "movies = soup.select('ul.mov_list') # 출연영화 \n",
    "for index, actor in enumerate(actors):\n",
    "    print(\"배우이름:\", (re.sub('\\(\\w*\\)', '', actor.text)))\n",
    "    print(\"흥행지수:\", int(hits[index].text.replace(',','')))\n",
    "    movie_titles = movies[index].select('li a span') # 각 배우마다 영화리스트가 있고 영화도 리스트로 나뉘어져 있음\n",
    "    movie_title_list = list() # 리스트로 나뉘어진 영화를 하나의 리스트로 묶기 위함\n",
    "    for movie_title in movie_titles:\n",
    "        movie_title_list.append(movie_title.text)\n",
    "    print(\"출연영화:\", movie_title_list)"
   ]
  }
 ],
 "metadata": {
  "kernelspec": {
   "display_name": "Python 3 (ipykernel)",
   "language": "python",
   "name": "python3"
  },
  "language_info": {
   "codemirror_mode": {
    "name": "ipython",
    "version": 3
   },
   "file_extension": ".py",
   "mimetype": "text/x-python",
   "name": "python",
   "nbconvert_exporter": "python",
   "pygments_lexer": "ipython3",
   "version": "3.9.7"
  }
 },
 "nbformat": 4,
 "nbformat_minor": 5
}
