{
 "cells": [
  {
   "cell_type": "markdown",
   "id": "169881b4",
   "metadata": {},
   "source": [
    "#### 9. mongodb에 크롤링 데이터 저장하기"
   ]
  },
  {
   "cell_type": "code",
   "execution_count": 1,
   "id": "9b466a68",
   "metadata": {},
   "outputs": [
    {
     "data": {
      "text/plain": [
       "<pymongo.results.InsertManyResult at 0x25eda5104c0>"
      ]
     },
     "execution_count": 1,
     "metadata": {},
     "output_type": "execute_result"
    }
   ],
   "source": [
    "from bs4 import BeautifulSoup\n",
    "import requests\n",
    "import pymongo\n",
    "import re\n",
    "\n",
    "actors_info_list = list()\n",
    "\n",
    "cine21_url = 'http://www.cine21.com/rank/person/content'\n",
    "post_data = dict()\n",
    "post_data['section']='actor'\n",
    "post_data['period_start']='2020-12'\n",
    "post_data['gender']='all'\n",
    "\n",
    "for index in range(1,21):\n",
    "    post_data['page'] = index\n",
    "    \n",
    "    res = requests.post(cine21_url, data=post_data)\n",
    "    soup = BeautifulSoup(res.content, 'html.parser')\n",
    "    \n",
    "    actors = soup.select('li.people_li div.name > a') # 배우이름\n",
    "    hits = soup.select('ul.num_info > li > strong') # 흥행지수\n",
    "    movies = soup.select('ul.mov_list') # 출연영화 \n",
    "    rankings = soup.select('li.people_li > span.grade') # 랭킹\n",
    "\n",
    "    for index, actor in enumerate(actors):\n",
    "        actor_name = re.sub('\\(\\w*\\)','',actor.text)\n",
    "        actor_hits = int(hits[index].text.replace(',',''))\n",
    "        movie_titles = movies[index].select('li a span')\n",
    "        movie_title_list = list()\n",
    "        for movie_title in movie_titles:\n",
    "            movie_title_list.append(movie_title.text)\n",
    "\n",
    "        actor_info_dict = dict()\n",
    "        actor_info_dict['배우이름'] = actor_name\n",
    "        actor_info_dict['흥행지수'] = actor_hits\n",
    "        actor_info_dict['출연영화'] = movie_title_list\n",
    "        actor_info_dict['랭킹'] = rankings[index].text\n",
    "\n",
    "        actor_link = 'http://www.cine21.com' + actor.attrs['href'] # 배우 링크\n",
    "        response_actor = requests.get(actor_link) # 배우 링크 가져오기\n",
    "        soup_actor = BeautifulSoup(response_actor.content, 'html.parser') # 배우 링크 파싱하기\n",
    "        default_info = soup_actor.select_one('ul.default_info') # 배우 기본 정보\n",
    "        actor_details = default_info.select('li') # 기본 정보내에서 상세정보 데이터 추출\n",
    "\n",
    "        for actor_item in actor_details:\n",
    "            actor_item_field = actor_item.select_one('span.tit').text # 원하는 값\n",
    "            actor_item_value = re.sub('<span.*?>.*?</span>', '', str(actor_item))\n",
    "            actor_item_value = re.sub('<.*?>', '', actor_item_value) # 원하는 값\n",
    "            actor_info_dict[actor_item_field] = actor_item_value # 딕셔너리로 저장 'field':'value'\n",
    "        actors_info_list.append(actor_info_dict)\n",
    "        \n",
    "actor_collection.insert_many(actors_info_list)"
   ]
  },
  {
   "cell_type": "code",
   "execution_count": 4,
   "id": "c968a990",
   "metadata": {},
   "outputs": [
    {
     "data": {
      "text/plain": [
       "<pymongo.results.InsertManyResult at 0x25ed7a4dd80>"
      ]
     },
     "execution_count": 4,
     "metadata": {},
     "output_type": "execute_result"
    }
   ],
   "source": [
    "conn = pymongo.MongoClient()\n",
    "actor_db = conn.cine21\n",
    "actor_collection = actor_db.actor_collection\n",
    "\n",
    "actor_collection.insert_many(actors_info_list)"
   ]
  },
  {
   "cell_type": "code",
   "execution_count": 3,
   "id": "75c1c8ad",
   "metadata": {},
   "outputs": [
    {
     "data": {
      "text/plain": [
       "<pymongo.results.DeleteResult at 0x25ed966e6c0>"
      ]
     },
     "execution_count": 3,
     "metadata": {},
     "output_type": "execute_result"
    }
   ],
   "source": [
    "actor_collection.delete_many({})"
   ]
  },
  {
   "cell_type": "code",
   "execution_count": null,
   "id": "ad397ce8",
   "metadata": {},
   "outputs": [],
   "source": []
  }
 ],
 "metadata": {
  "kernelspec": {
   "display_name": "Python 3 (ipykernel)",
   "language": "python",
   "name": "python3"
  },
  "language_info": {
   "codemirror_mode": {
    "name": "ipython",
    "version": 3
   },
   "file_extension": ".py",
   "mimetype": "text/x-python",
   "name": "python",
   "nbconvert_exporter": "python",
   "pygments_lexer": "ipython3",
   "version": "3.9.7"
  }
 },
 "nbformat": 4,
 "nbformat_minor": 5
}
