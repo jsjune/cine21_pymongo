{
 "cells": [
  {
   "cell_type": "markdown",
   "id": "cd16b1a6",
   "metadata": {},
   "source": [
    "# 크롤링과 데이터베이스 \n",
    "\n",
    "* cine21 배우 랭킹 사이트 크롤링\n",
    "  - 사이트 주소: http://www.cine21.com/rank/person/\n",
    "  - 요청 방식 확인 방법: 크롬 개발자 모드로 들어가서, Network -> content 페이지의 요청 방식 확인 (Preserve log, All 체크)\n",
    "    - Request URL: http://www.cine21.com/rank/person/content\n",
    "    - Request Method: POST\n",
    "    - Form data (payload)\n",
    "      - section = 'actor'\n",
    "      - period_start = '2020-12'\n",
    "      - gender = 'all'\n",
    "      - page = 1 "
   ]
  },
  {
   "cell_type": "markdown",
   "id": "92a7aa38",
   "metadata": {},
   "source": [
    "### 1. 라이브러리 import"
   ]
  },
  {
   "cell_type": "code",
   "execution_count": 1,
   "id": "d52c7286",
   "metadata": {},
   "outputs": [],
   "source": [
    "from bs4 import BeautifulSoup\n",
    "import requests\n",
    "import pymongo\n",
    "import re"
   ]
  },
  {
   "cell_type": "markdown",
   "id": "ed7f66d3",
   "metadata": {},
   "source": [
    "### 2. mongodb connection"
   ]
  },
  {
   "cell_type": "code",
   "execution_count": 2,
   "id": "fe846184",
   "metadata": {},
   "outputs": [],
   "source": [
    "conn = pymongo.MongoClient()\n",
    "actor_db = conn.cine21 # cine21 데이터베이스 생성\n",
    "actor_collection = actor_db.actor_collection # actor_collection 컬렉션 생성"
   ]
  },
  {
   "cell_type": "markdown",
   "id": "e9773e3f",
   "metadata": {},
   "source": [
    "### 3. 크롤링 주소 requests"
   ]
  },
  {
   "cell_type": "code",
   "execution_count": 3,
   "id": "dd9849f3",
   "metadata": {},
   "outputs": [],
   "source": [
    "cine21_url = 'http://www.cine21.com/rank/person/content'\n",
    "post_data = dict()\n",
    "post_data['section']='actor'\n",
    "post_data['period_start']='2020-12'\n",
    "post_data['gender']='all'\n",
    "post_data['page']=1\n",
    "\n",
    "res = requests.post(cine21_url, data=post_data)"
   ]
  },
  {
   "cell_type": "markdown",
   "id": "d46f6c62",
   "metadata": {},
   "source": [
    "### 4. parsing과 배우 이름 추출"
   ]
  },
  {
   "cell_type": "code",
   "execution_count": 4,
   "id": "5474ffe5",
   "metadata": {},
   "outputs": [],
   "source": [
    "soup = BeautifulSoup(res.content, 'html.parser')"
   ]
  },
  {
   "cell_type": "code",
   "execution_count": 5,
   "id": "90ead186",
   "metadata": {},
   "outputs": [
    {
     "name": "stdout",
     "output_type": "stream",
     "text": [
      "김윤석(6편)\n",
      "조인성(2편)\n",
      "허준호(2편)\n",
      "김소진(4편)\n",
      "조우진(7편)\n",
      "황정민(5편)\n",
      "정만식(4편)\n"
     ]
    }
   ],
   "source": [
    "actors = soup.select('li.people_li div.name > a') # li는 리스트를 의미\n",
    "for actor in actors:\n",
    "    print(actor.text)"
   ]
  },
  {
   "cell_type": "code",
   "execution_count": 6,
   "id": "e7dfe3b1",
   "metadata": {},
   "outputs": [
    {
     "data": {
      "text/plain": [
       "'임지연'"
      ]
     },
     "execution_count": 6,
     "metadata": {},
     "output_type": "execute_result"
    }
   ],
   "source": [
    "test_data = '임지연(1편)'\n",
    "re.sub('\\(\\w*\\)','',test_data)"
   ]
  },
  {
   "cell_type": "code",
   "execution_count": 7,
   "id": "23f36f2f",
   "metadata": {},
   "outputs": [
    {
     "name": "stdout",
     "output_type": "stream",
     "text": [
      "김윤석\n",
      "조인성\n",
      "허준호\n",
      "김소진\n",
      "조우진\n",
      "황정민\n",
      "정만식\n"
     ]
    }
   ],
   "source": [
    "actors = soup.select('li.people_li div.name > a') # li는 리스트를 의미\n",
    "for actor in actors:\n",
    "    print(re.sub('\\(\\w*\\)', '', actor.text))"
   ]
  },
  {
   "cell_type": "markdown",
   "id": "a0430a3e",
   "metadata": {},
   "source": [
    "### 5. 배우 상세 정보 추출 "
   ]
  },
  {
   "cell_type": "markdown",
   "id": "d4760975",
   "metadata": {},
   "source": [
    "#### 참고: 특수한 정규 표현식\n",
    "```html\n",
    "  - Greedy(.*) vs Non-Greedy(.*?)\n",
    "  - 연습: https://regexr.com\n",
    "    - <li><span class=\"tit\">직업</span>배우</li>\n",
    "  - . 문자는 줄바꿈 문자인 \\n 를 제외한 모든 문자 한개를 의미함\n",
    "  - * 는 앞 문자가 0번 또는 그 이상 반복되는 패턴\n",
    "  - .* 는 문자가 0번 또는 그 이상 반복되는 패턴\n",
    "```"
   ]
  },
  {
   "cell_type": "code",
   "execution_count": 8,
   "id": "0fb02950",
   "metadata": {
    "scrolled": true
   },
   "outputs": [
    {
     "name": "stdout",
     "output_type": "stream",
     "text": [
      "<li><span class=\"tit\">직업</span>배우</li>\n",
      "직업배우\n",
      "직업\n",
      "<li>배우</li>\n",
      "배우\n",
      "<li><span class=\"tit\">생년월일</span>1968-01-21</li>\n",
      "생년월일1968-01-21\n",
      "생년월일\n",
      "<li>1968-01-21</li>\n",
      "1968-01-21\n",
      "<li><span class=\"tit\">성별</span>남</li>\n",
      "성별남\n",
      "성별\n",
      "<li>남</li>\n",
      "남\n",
      "<li><span class=\"tit\">신장/체중</span>178cm, 68kg</li>\n",
      "신장/체중178cm, 68kg\n",
      "신장/체중\n",
      "<li>178cm, 68kg</li>\n",
      "178cm, 68kg\n",
      "<li><span class=\"tit\">학교</span>동의대학교 학사</li>\n",
      "학교동의대학교 학사\n",
      "학교\n",
      "<li>동의대학교 학사</li>\n",
      "동의대학교 학사\n",
      "<li><span class=\"tit\">취미</span>여행, 낚시</li>\n",
      "취미여행, 낚시\n",
      "취미\n",
      "<li>여행, 낚시</li>\n",
      "여행, 낚시\n",
      "<li><span class=\"tit\">소속사</span>심엔터테인먼트</li>\n",
      "소속사심엔터테인먼트\n",
      "소속사\n",
      "<li>심엔터테인먼트</li>\n",
      "심엔터테인먼트\n",
      "<li><span class=\"tit\">다른 이름</span>趙寅成</li>\n",
      "다른 이름趙寅成\n",
      "다른 이름\n",
      "<li>趙寅成</li>\n",
      "趙寅成\n",
      "<li><span class=\"tit\">직업</span>배우</li>\n",
      "직업배우\n",
      "직업\n",
      "<li>배우</li>\n",
      "배우\n",
      "<li><span class=\"tit\">생년월일</span>1981-07-28</li>\n",
      "생년월일1981-07-28\n",
      "생년월일\n",
      "<li>1981-07-28</li>\n",
      "1981-07-28\n",
      "<li><span class=\"tit\">성별</span>남</li>\n",
      "성별남\n",
      "성별\n",
      "<li>남</li>\n",
      "남\n",
      "<li><span class=\"tit\">신장/체중</span>186cm, 72kg</li>\n",
      "신장/체중186cm, 72kg\n",
      "신장/체중\n",
      "<li>186cm, 72kg</li>\n",
      "186cm, 72kg\n",
      "<li><span class=\"tit\">학교</span>전남과학대 모델이벤트과 - 동국대 연극영화 (중퇴)</li>\n",
      "학교전남과학대 모델이벤트과 - 동국대 연극영화 (중퇴)\n",
      "학교\n",
      "<li>전남과학대 모델이벤트과 - 동국대 연극영화 (중퇴)</li>\n",
      "전남과학대 모델이벤트과 - 동국대 연극영화 (중퇴)\n",
      "<li><span class=\"tit\">취미</span>모자모으기, 영화보기, 농구</li>\n",
      "취미모자모으기, 영화보기, 농구\n",
      "취미\n",
      "<li>모자모으기, 영화보기, 농구</li>\n",
      "모자모으기, 영화보기, 농구\n",
      "<li><span class=\"tit\">특기</span>농구, 태권도(공인 4단)</li>\n",
      "특기농구, 태권도(공인 4단)\n",
      "특기\n",
      "<li>농구, 태권도(공인 4단)</li>\n",
      "농구, 태권도(공인 4단)\n",
      "<li><span class=\"tit\">소속사</span>싸이더스 HQ</li>\n",
      "소속사싸이더스 HQ\n",
      "소속사\n",
      "<li>싸이더스 HQ</li>\n",
      "싸이더스 HQ\n",
      "<li><span class=\"tit\">원어명</span>許俊豪</li>\n",
      "원어명許俊豪\n",
      "원어명\n",
      "<li>許俊豪</li>\n",
      "許俊豪\n",
      "<li><span class=\"tit\">직업</span>배우</li>\n",
      "직업배우\n",
      "직업\n",
      "<li>배우</li>\n",
      "배우\n",
      "<li><span class=\"tit\">생년월일</span>1964-03-03</li>\n",
      "생년월일1964-03-03\n",
      "생년월일\n",
      "<li>1964-03-03</li>\n",
      "1964-03-03\n",
      "<li><span class=\"tit\">성별</span>남</li>\n",
      "성별남\n",
      "성별\n",
      "<li>남</li>\n",
      "남\n",
      "<li><span class=\"tit\">신장/체중</span>180cm, 75kg</li>\n",
      "신장/체중180cm, 75kg\n",
      "신장/체중\n",
      "<li>180cm, 75kg</li>\n",
      "180cm, 75kg\n",
      "<li><span class=\"tit\">학교</span>서울예술대학 연극과</li>\n",
      "학교서울예술대학 연극과\n",
      "학교\n",
      "<li>서울예술대학 연극과</li>\n",
      "서울예술대학 연극과\n",
      "<li><span class=\"tit\">취미</span>만화책 보기</li>\n",
      "취미만화책 보기\n",
      "취미\n",
      "<li>만화책 보기</li>\n",
      "만화책 보기\n",
      "<li><span class=\"tit\">특기</span>야구, 농구</li>\n",
      "특기야구, 농구\n",
      "특기\n",
      "<li>야구, 농구</li>\n",
      "야구, 농구\n",
      "<li><span class=\"tit\">소속사</span>지티비엔터테인먼트</li>\n",
      "소속사지티비엔터테인먼트\n",
      "소속사\n",
      "<li>지티비엔터테인먼트</li>\n",
      "지티비엔터테인먼트\n",
      "<li><span class=\"tit\">직업</span>배우</li>\n",
      "직업배우\n",
      "직업\n",
      "<li>배우</li>\n",
      "배우\n",
      "<li><span class=\"tit\">성별</span>여</li>\n",
      "성별여\n",
      "성별\n",
      "<li>여</li>\n",
      "여\n",
      "<li><span class=\"tit\">다른 이름</span>조신제</li>\n",
      "다른 이름조신제\n",
      "다른 이름\n",
      "<li>조신제</li>\n",
      "조신제\n",
      "<li><span class=\"tit\">직업</span>배우</li>\n",
      "직업배우\n",
      "직업\n",
      "<li>배우</li>\n",
      "배우\n",
      "<li><span class=\"tit\">생년월일</span>1979-01-16</li>\n",
      "생년월일1979-01-16\n",
      "생년월일\n",
      "<li>1979-01-16</li>\n",
      "1979-01-16\n",
      "<li><span class=\"tit\">성별</span>남</li>\n",
      "성별남\n",
      "성별\n",
      "<li>남</li>\n",
      "남\n",
      "<li><span class=\"tit\">직업</span>배우</li>\n",
      "직업배우\n",
      "직업\n",
      "<li>배우</li>\n",
      "배우\n",
      "<li><span class=\"tit\">생년월일</span>1970-09-01</li>\n",
      "생년월일1970-09-01\n",
      "생년월일\n",
      "<li>1970-09-01</li>\n",
      "1970-09-01\n",
      "<li><span class=\"tit\">성별</span>남</li>\n",
      "성별남\n",
      "성별\n",
      "<li>남</li>\n",
      "남\n",
      "<li><span class=\"tit\">신장/체중</span>180cm, 75kg</li>\n",
      "신장/체중180cm, 75kg\n",
      "신장/체중\n",
      "<li>180cm, 75kg</li>\n",
      "180cm, 75kg\n",
      "<li><span class=\"tit\">학교</span>서울예술대학 연극과 졸업</li>\n",
      "학교서울예술대학 연극과 졸업\n",
      "학교\n",
      "<li>서울예술대학 연극과 졸업</li>\n",
      "서울예술대학 연극과 졸업\n",
      "<li><span class=\"tit\">특기</span>농구, 악기연주</li>\n",
      "특기농구, 악기연주\n",
      "특기\n",
      "<li>농구, 악기연주</li>\n",
      "농구, 악기연주\n",
      "<li><span class=\"tit\">소속사</span>예당엔터테인먼트</li>\n",
      "소속사예당엔터테인먼트\n",
      "소속사\n",
      "<li>예당엔터테인먼트</li>\n",
      "예당엔터테인먼트\n",
      "<li><span class=\"tit\">직업</span>배우</li>\n",
      "직업배우\n",
      "직업\n",
      "<li>배우</li>\n",
      "배우\n",
      "<li><span class=\"tit\">생년월일</span>1974-12-11</li>\n",
      "생년월일1974-12-11\n",
      "생년월일\n",
      "<li>1974-12-11</li>\n",
      "1974-12-11\n",
      "<li><span class=\"tit\">성별</span>남</li>\n",
      "성별남\n",
      "성별\n",
      "<li>남</li>\n",
      "남\n"
     ]
    }
   ],
   "source": [
    "actors = soup.select('li.people_li div.name > a')\n",
    "for actor in actors:\n",
    "    actor_link = 'http://www.cine21.com' + actor.attrs['href'] # 배우 링크\n",
    "    response_actor = requests.get(actor_link) # 배우 링크 가져오기\n",
    "    soup_actor = BeautifulSoup(response_actor.content, 'html.parser') # 배우 링크 파싱하기\n",
    "    default_info = soup_actor.select_one('ul.default_info') # 배우 기본 정보\n",
    "    actor_details = default_info.select('li') # 기본 정보내에서 상세정보 데이터 추출\n",
    "    for actor_item in actor_details: # 상세정보 출력\n",
    "        print(actor_item) \n",
    "        print(actor_item.text)\n",
    "        print(actor_item.select_one('span.tit').text) # 원하는 값\n",
    "        print(re.sub('<span.*?>.*?</span>','',str(actor_item)))\n",
    "        actor_item_value = re.sub('<span.*?>.*?</span>','',str(actor_item))\n",
    "        actor_item_value = re.sub('<.*?>', '', actor_item_value)\n",
    "        print(actor_item_value) # 원하는 값"
   ]
  },
  {
   "cell_type": "code",
   "execution_count": 9,
   "id": "382f0389",
   "metadata": {
    "scrolled": true
   },
   "outputs": [
    {
     "data": {
      "text/plain": [
       "[{'직업': '배우',\n",
       "  '생년월일': '1968-01-21',\n",
       "  '성별': '남',\n",
       "  '신장/체중': '178cm, 68kg',\n",
       "  '학교': '동의대학교 학사',\n",
       "  '취미': '여행, 낚시',\n",
       "  '소속사': '심엔터테인먼트'},\n",
       " {'다른 이름': '趙寅成',\n",
       "  '직업': '배우',\n",
       "  '생년월일': '1981-07-28',\n",
       "  '성별': '남',\n",
       "  '신장/체중': '186cm, 72kg',\n",
       "  '학교': '전남과학대 모델이벤트과 - 동국대 연극영화 (중퇴)',\n",
       "  '취미': '모자모으기, 영화보기, 농구',\n",
       "  '특기': '농구, 태권도(공인 4단)',\n",
       "  '소속사': '싸이더스 HQ'},\n",
       " {'원어명': '許俊豪',\n",
       "  '직업': '배우',\n",
       "  '생년월일': '1964-03-03',\n",
       "  '성별': '남',\n",
       "  '신장/체중': '180cm, 75kg',\n",
       "  '학교': '서울예술대학 연극과',\n",
       "  '취미': '만화책 보기',\n",
       "  '특기': '야구, 농구',\n",
       "  '소속사': '지티비엔터테인먼트'},\n",
       " {'직업': '배우', '성별': '여'},\n",
       " {'다른 이름': '조신제', '직업': '배우', '생년월일': '1979-01-16', '성별': '남'},\n",
       " {'직업': '배우',\n",
       "  '생년월일': '1970-09-01',\n",
       "  '성별': '남',\n",
       "  '신장/체중': '180cm, 75kg',\n",
       "  '학교': '서울예술대학 연극과 졸업',\n",
       "  '특기': '농구, 악기연주',\n",
       "  '소속사': '예당엔터테인먼트'},\n",
       " {'직업': '배우', '생년월일': '1974-12-11', '성별': '남'}]"
      ]
     },
     "execution_count": 9,
     "metadata": {},
     "output_type": "execute_result"
    }
   ],
   "source": [
    "actors = soup.select('li.people_li div.name > a')\n",
    "\n",
    "actors_info_list = list()\n",
    "\n",
    "for actor in actors:\n",
    "    actor_link = 'http://www.cine21.com' + actor.attrs['href'] # 배우 링크\n",
    "    response_actor = requests.get(actor_link) # 배우 링크 가져오기\n",
    "    soup_actor = BeautifulSoup(response_actor.content, 'html.parser') # 배우 링크 파싱하기\n",
    "    default_info = soup_actor.select_one('ul.default_info') # 배우 기본 정보\n",
    "    actor_details = default_info.select('li') # 기본 정보내에서 상세정보 데이터 추출\n",
    "\n",
    "    actor_info_dict = dict()\n",
    "    \n",
    "    for actor_item in actor_details:\n",
    "        actor_item_field = actor_item.select_one('span.tit').text # 원하는 값\n",
    "        actor_item_value = re.sub('<span.*?>.*?</span>', '', str(actor_item))\n",
    "        actor_item_value = re.sub('<.*?>', '', actor_item_value) # 원하는 값\n",
    "        actor_info_dict[actor_item_field] = actor_item_value # 딕셔너리로 저장 'field':'value'\n",
    "    actors_info_list.append(actor_info_dict)\n",
    "\n",
    "actors_info_list        "
   ]
  },
  {
   "cell_type": "markdown",
   "id": "44e2e17a",
   "metadata": {},
   "source": [
    "### 6. 배우 흥행 지수와 출연 영화 추출"
   ]
  },
  {
   "cell_type": "code",
   "execution_count": 10,
   "id": "9bbb000a",
   "metadata": {},
   "outputs": [
    {
     "name": "stdout",
     "output_type": "stream",
     "text": [
      "[<a href=\"/db/person/info/?person_id=57423\">김윤석(6편)</a>, <a href=\"/db/person/info/?person_id=16259\">조인성(2편)</a>, <a href=\"/db/person/info/?person_id=2425\">허준호(2편)</a>, <a href=\"/db/person/info/?person_id=82573\">김소진(4편)</a>, <a href=\"/db/person/info/?person_id=98611\">조우진(7편)</a>, <a href=\"/db/person/info/?person_id=14268\">황정민(5편)</a>, <a href=\"/db/person/info/?person_id=64972\">정만식(4편)</a>]\n",
      "[<strong>45,708</strong>, <strong>39,995</strong>, <strong>34,251</strong>, <strong>28,556</strong>, <strong>26,118</strong>, <strong>24,260</strong>, <strong>22,847</strong>]\n"
     ]
    }
   ],
   "source": [
    "actors = soup.select('li.people_li div.name > a') \n",
    "hits = soup.select('ul.num_info > li > strong')\n",
    "print(actors)\n",
    "print(hits)"
   ]
  },
  {
   "cell_type": "code",
   "execution_count": 11,
   "id": "77658546",
   "metadata": {},
   "outputs": [
    {
     "name": "stdout",
     "output_type": "stream",
     "text": [
      "김윤석\n",
      "45,708\n",
      "조인성\n",
      "39,995\n",
      "허준호\n",
      "34,251\n",
      "김소진\n",
      "28,556\n",
      "조우진\n",
      "26,118\n",
      "황정민\n",
      "24,260\n",
      "정만식\n",
      "22,847\n"
     ]
    }
   ],
   "source": [
    "actors = soup.select('li.people_li div.name > a') \n",
    "hits = soup.select('ul.num_info > li > strong')\n",
    "for index,actor in enumerate(actors):\n",
    "    print((re.sub('\\(\\w*\\)', '', actor.text)))\n",
    "    print(hits[index].text)"
   ]
  },
  {
   "cell_type": "code",
   "execution_count": 12,
   "id": "d1bd8b3f",
   "metadata": {
    "scrolled": true
   },
   "outputs": [
    {
     "name": "stdout",
     "output_type": "stream",
     "text": [
      "김윤석\n",
      "45,708\n",
      "[<span>모가디슈</span>, <span>타짜</span>, <span>당신, 거기 있어줄래요</span>, <span>화이 : 괴물을 삼킨 아이</span>, <span>미성년</span>, <span>1987</span>]\n",
      "조인성\n",
      "39,995\n",
      "[<span>모가디슈</span>, <span>클래식</span>]\n",
      "허준호\n",
      "34,251\n",
      "[<span>모가디슈</span>, <span>국가부도의 날</span>]\n",
      "김소진\n",
      "28,556\n",
      "[<span>모가디슈</span>, <span>스프링 송</span>, <span>아이 캔 스피크</span>, <span>미성년</span>]\n",
      "조우진\n",
      "26,118\n",
      "[<span>발신제한</span>, <span>도굴</span>, <span>킹메이커</span>, <span>서복</span>, <span>국가부도의 날</span>, <span>봉오동 전투</span>]\n",
      "황정민\n",
      "24,260\n",
      "[<span>인질</span>, <span>와이키키 브라더스</span>, <span>바람난 가족</span>, <span>신세계</span>, <span>내 생애 가장 아름다운 일주일</span>]\n",
      "정만식\n",
      "22,847\n",
      "[<span>모가디슈</span>, <span>지푸라기라도 잡고 싶은 짐승들</span>, <span>똥파리</span>, <span>끝까지 간다</span>]\n"
     ]
    }
   ],
   "source": [
    "actors = soup.select('li.people_li div.name > a') \n",
    "hits = soup.select('ul.num_info > li > strong')\n",
    "movies = soup.select('ul.mov_list')\n",
    "for index,actor in enumerate(actors):\n",
    "    print((re.sub('\\(\\w*\\)', '', actor.text)))\n",
    "    print(hits[index].text)\n",
    "    movie_titles = movies[index].select('li a span') # 각 배우마다 영화출연 리스트가 있고 영화 별로 리스트로 나뉘어져 있음\n",
    "    print(movie_titles)\n",
    "    "
   ]
  },
  {
   "cell_type": "code",
   "execution_count": 13,
   "id": "f02784b6",
   "metadata": {
    "scrolled": true
   },
   "outputs": [
    {
     "name": "stdout",
     "output_type": "stream",
     "text": [
      "김윤석\n",
      "45,708\n",
      "모가디슈\n",
      "타짜\n",
      "당신, 거기 있어줄래요\n",
      "화이 : 괴물을 삼킨 아이\n",
      "미성년\n",
      "1987\n",
      "조인성\n",
      "39,995\n",
      "모가디슈\n",
      "클래식\n",
      "허준호\n",
      "34,251\n",
      "모가디슈\n",
      "국가부도의 날\n",
      "김소진\n",
      "28,556\n",
      "모가디슈\n",
      "스프링 송\n",
      "아이 캔 스피크\n",
      "미성년\n",
      "조우진\n",
      "26,118\n",
      "발신제한\n",
      "도굴\n",
      "킹메이커\n",
      "서복\n",
      "국가부도의 날\n",
      "봉오동 전투\n",
      "황정민\n",
      "24,260\n",
      "인질\n",
      "와이키키 브라더스\n",
      "바람난 가족\n",
      "신세계\n",
      "내 생애 가장 아름다운 일주일\n",
      "정만식\n",
      "22,847\n",
      "모가디슈\n",
      "지푸라기라도 잡고 싶은 짐승들\n",
      "똥파리\n",
      "끝까지 간다\n"
     ]
    }
   ],
   "source": [
    "actors = soup.select('li.people_li div.name > a') \n",
    "hits = soup.select('ul.num_info > li > strong')\n",
    "movies = soup.select('ul.mov_list')\n",
    "for index,actor in enumerate(actors):\n",
    "    print((re.sub('\\(\\w*\\)', '', actor.text)))\n",
    "    print(hits[index].text)\n",
    "    movie_titles = movies[index].select('li a span') \n",
    "    for movie_title in movie_titles:\n",
    "        print(movie_title.text)"
   ]
  },
  {
   "cell_type": "code",
   "execution_count": 14,
   "id": "bfae022a",
   "metadata": {
    "scrolled": true
   },
   "outputs": [
    {
     "name": "stdout",
     "output_type": "stream",
     "text": [
      "배우이름: 김윤석\n",
      "흥행지수: 45708\n",
      "출연영화: ['모가디슈', '타짜', '당신, 거기 있어줄래요', '화이 : 괴물을 삼킨 아이', '미성년', '1987']\n",
      "배우이름: 조인성\n",
      "흥행지수: 39995\n",
      "출연영화: ['모가디슈', '클래식']\n",
      "배우이름: 허준호\n",
      "흥행지수: 34251\n",
      "출연영화: ['모가디슈', '국가부도의 날']\n",
      "배우이름: 김소진\n",
      "흥행지수: 28556\n",
      "출연영화: ['모가디슈', '스프링 송', '아이 캔 스피크', '미성년']\n",
      "배우이름: 조우진\n",
      "흥행지수: 26118\n",
      "출연영화: ['발신제한', '도굴', '킹메이커', '서복', '국가부도의 날', '봉오동 전투']\n",
      "배우이름: 황정민\n",
      "흥행지수: 24260\n",
      "출연영화: ['인질', '와이키키 브라더스', '바람난 가족', '신세계', '내 생애 가장 아름다운 일주일']\n",
      "배우이름: 정만식\n",
      "흥행지수: 22847\n",
      "출연영화: ['모가디슈', '지푸라기라도 잡고 싶은 짐승들', '똥파리', '끝까지 간다']\n"
     ]
    }
   ],
   "source": [
    "actors = soup.select('li.people_li div.name > a') # 배우이름\n",
    "hits = soup.select('ul.num_info > li > strong') # 흥행지수\n",
    "movies = soup.select('ul.mov_list') # 출연영화 \n",
    "for index, actor in enumerate(actors):\n",
    "    print(\"배우이름:\", (re.sub('\\(\\w*\\)', '', actor.text)))\n",
    "    print(\"흥행지수:\", int(hits[index].text.replace(',','')))\n",
    "    movie_titles = movies[index].select('li a span') # 각 배우마다 영화리스트가 있고 영화도 리스트로 나뉘어져 있음\n",
    "    movie_title_list = list() # 리스트로 나뉘어진 영화를 하나의 리스트로 묶기 위함\n",
    "    for movie_title in movie_titles:\n",
    "        movie_title_list.append(movie_title.text)\n",
    "    print(\"출연영화:\", movie_title_list)"
   ]
  },
  {
   "cell_type": "markdown",
   "id": "beb475ba",
   "metadata": {},
   "source": [
    "### 7. 수집한 데이터 기반 사전 만들기"
   ]
  },
  {
   "cell_type": "code",
   "execution_count": 15,
   "id": "588dc516",
   "metadata": {},
   "outputs": [
    {
     "name": "stdout",
     "output_type": "stream",
     "text": [
      "김윤석\n",
      "조인성\n",
      "허준호\n",
      "김소진\n",
      "조우진\n",
      "황정민\n",
      "정만식\n"
     ]
    }
   ],
   "source": [
    "# 4.배우이름 추출\n",
    "actors = soup.select('li.people_li div.name > a') # li는 리스트를 의미\n",
    "for actor in actors:\n",
    "    print(re.sub('\\(\\w*\\)', '', actor.text))"
   ]
  },
  {
   "cell_type": "code",
   "execution_count": 16,
   "id": "28c0fee6",
   "metadata": {},
   "outputs": [
    {
     "data": {
      "text/plain": [
       "[{'직업': '배우',\n",
       "  '생년월일': '1968-01-21',\n",
       "  '성별': '남',\n",
       "  '신장/체중': '178cm, 68kg',\n",
       "  '학교': '동의대학교 학사',\n",
       "  '취미': '여행, 낚시',\n",
       "  '소속사': '심엔터테인먼트'},\n",
       " {'다른 이름': '趙寅成',\n",
       "  '직업': '배우',\n",
       "  '생년월일': '1981-07-28',\n",
       "  '성별': '남',\n",
       "  '신장/체중': '186cm, 72kg',\n",
       "  '학교': '전남과학대 모델이벤트과 - 동국대 연극영화 (중퇴)',\n",
       "  '취미': '모자모으기, 영화보기, 농구',\n",
       "  '특기': '농구, 태권도(공인 4단)',\n",
       "  '소속사': '싸이더스 HQ'},\n",
       " {'원어명': '許俊豪',\n",
       "  '직업': '배우',\n",
       "  '생년월일': '1964-03-03',\n",
       "  '성별': '남',\n",
       "  '신장/체중': '180cm, 75kg',\n",
       "  '학교': '서울예술대학 연극과',\n",
       "  '취미': '만화책 보기',\n",
       "  '특기': '야구, 농구',\n",
       "  '소속사': '지티비엔터테인먼트'},\n",
       " {'직업': '배우', '성별': '여'},\n",
       " {'다른 이름': '조신제', '직업': '배우', '생년월일': '1979-01-16', '성별': '남'},\n",
       " {'직업': '배우',\n",
       "  '생년월일': '1970-09-01',\n",
       "  '성별': '남',\n",
       "  '신장/체중': '180cm, 75kg',\n",
       "  '학교': '서울예술대학 연극과 졸업',\n",
       "  '특기': '농구, 악기연주',\n",
       "  '소속사': '예당엔터테인먼트'},\n",
       " {'직업': '배우', '생년월일': '1974-12-11', '성별': '남'}]"
      ]
     },
     "execution_count": 16,
     "metadata": {},
     "output_type": "execute_result"
    }
   ],
   "source": [
    "# 5.배우 상세 정보 추출\n",
    "actors = soup.select('li.people_li div.name > a')\n",
    "\n",
    "actors_info_list = list()\n",
    "\n",
    "for actor in actors:\n",
    "    actor_link = 'http://www.cine21.com' + actor.attrs['href'] # 배우 링크\n",
    "    response_actor = requests.get(actor_link) # 배우 링크 가져오기\n",
    "    soup_actor = BeautifulSoup(response_actor.content, 'html.parser') # 배우 링크 파싱하기\n",
    "    default_info = soup_actor.select_one('ul.default_info') # 배우 기본 정보\n",
    "    actor_details = default_info.select('li') # 기본 정보내에서 상세정보 데이터 추출\n",
    "\n",
    "    actor_info_dict = dict()\n",
    "    \n",
    "    for actor_item in actor_details:\n",
    "        actor_item_field = actor_item.select_one('span.tit').text # 원하는 값\n",
    "        actor_item_value = re.sub('<span.*?>.*?</span>', '', str(actor_item))\n",
    "        actor_item_value = re.sub('<.*?>', '', actor_item_value) # 원하는 값\n",
    "        actor_info_dict[actor_item_field] = actor_item_value # 딕셔너리로 저장 'field':'value'\n",
    "    actors_info_list.append(actor_info_dict)\n",
    "\n",
    "actors_info_list        "
   ]
  },
  {
   "cell_type": "code",
   "execution_count": 17,
   "id": "295e1d91",
   "metadata": {},
   "outputs": [
    {
     "name": "stdout",
     "output_type": "stream",
     "text": [
      "배우이름: 김윤석\n",
      "흥행지수: 45708\n",
      "출연영화: ['모가디슈', '타짜', '당신, 거기 있어줄래요', '화이 : 괴물을 삼킨 아이', '미성년', '1987']\n",
      "배우이름: 조인성\n",
      "흥행지수: 39995\n",
      "출연영화: ['모가디슈', '클래식']\n",
      "배우이름: 허준호\n",
      "흥행지수: 34251\n",
      "출연영화: ['모가디슈', '국가부도의 날']\n",
      "배우이름: 김소진\n",
      "흥행지수: 28556\n",
      "출연영화: ['모가디슈', '스프링 송', '아이 캔 스피크', '미성년']\n",
      "배우이름: 조우진\n",
      "흥행지수: 26118\n",
      "출연영화: ['발신제한', '도굴', '킹메이커', '서복', '국가부도의 날', '봉오동 전투']\n",
      "배우이름: 황정민\n",
      "흥행지수: 24260\n",
      "출연영화: ['인질', '와이키키 브라더스', '바람난 가족', '신세계', '내 생애 가장 아름다운 일주일']\n",
      "배우이름: 정만식\n",
      "흥행지수: 22847\n",
      "출연영화: ['모가디슈', '지푸라기라도 잡고 싶은 짐승들', '똥파리', '끝까지 간다']\n"
     ]
    }
   ],
   "source": [
    "# 6.배우 흥행 지수와 출연 영화 추출\n",
    "actors = soup.select('li.people_li div.name > a') # 배우이름\n",
    "hits = soup.select('ul.num_info > li > strong') # 흥행지수\n",
    "movies = soup.select('ul.mov_list') # 출연영화 \n",
    "for index, actor in enumerate(actors):\n",
    "    print(\"배우이름:\", (re.sub('\\(\\w*\\)', '', actor.text)))\n",
    "    print(\"흥행지수:\", int(hits[index].text.replace(',','')))\n",
    "    movie_titles = movies[index].select('li a span') # 각 배우마다 영화리스트가 있고 영화도 리스트로 나뉘어져 있음\n",
    "    movie_title_list = list() # 리스트로 나뉘어진 영화를 하나의 리스트로 묶기 위함\n",
    "    for movie_title in movie_titles:\n",
    "        movie_title_list.append(movie_title.text)\n",
    "    print(\"출연영화:\", movie_title_list)"
   ]
  },
  {
   "cell_type": "code",
   "execution_count": 18,
   "id": "37e31cec",
   "metadata": {
    "scrolled": false
   },
   "outputs": [
    {
     "data": {
      "text/plain": [
       "[{'배우이름': '김윤석',\n",
       "  '흥행지수': 45708,\n",
       "  '출연영화': ['모가디슈', '타짜', '당신, 거기 있어줄래요', '화이 : 괴물을 삼킨 아이', '미성년', '1987'],\n",
       "  '랭킹': '1',\n",
       "  '직업': '배우',\n",
       "  '생년월일': '1968-01-21',\n",
       "  '성별': '남',\n",
       "  '신장/체중': '178cm, 68kg',\n",
       "  '학교': '동의대학교 학사',\n",
       "  '취미': '여행, 낚시',\n",
       "  '소속사': '심엔터테인먼트'},\n",
       " {'배우이름': '조인성',\n",
       "  '흥행지수': 39995,\n",
       "  '출연영화': ['모가디슈', '클래식'],\n",
       "  '랭킹': '2',\n",
       "  '다른 이름': '趙寅成',\n",
       "  '직업': '배우',\n",
       "  '생년월일': '1981-07-28',\n",
       "  '성별': '남',\n",
       "  '신장/체중': '186cm, 72kg',\n",
       "  '학교': '전남과학대 모델이벤트과 - 동국대 연극영화 (중퇴)',\n",
       "  '취미': '모자모으기, 영화보기, 농구',\n",
       "  '특기': '농구, 태권도(공인 4단)',\n",
       "  '소속사': '싸이더스 HQ'},\n",
       " {'배우이름': '허준호',\n",
       "  '흥행지수': 34251,\n",
       "  '출연영화': ['모가디슈', '국가부도의 날'],\n",
       "  '랭킹': '3',\n",
       "  '원어명': '許俊豪',\n",
       "  '직업': '배우',\n",
       "  '생년월일': '1964-03-03',\n",
       "  '성별': '남',\n",
       "  '신장/체중': '180cm, 75kg',\n",
       "  '학교': '서울예술대학 연극과',\n",
       "  '취미': '만화책 보기',\n",
       "  '특기': '야구, 농구',\n",
       "  '소속사': '지티비엔터테인먼트'},\n",
       " {'배우이름': '김소진',\n",
       "  '흥행지수': 28556,\n",
       "  '출연영화': ['모가디슈', '스프링 송', '아이 캔 스피크', '미성년'],\n",
       "  '랭킹': '4',\n",
       "  '직업': '배우',\n",
       "  '성별': '여'},\n",
       " {'배우이름': '조우진',\n",
       "  '흥행지수': 26118,\n",
       "  '출연영화': ['발신제한', '도굴', '킹메이커', '서복', '국가부도의 날', '봉오동 전투'],\n",
       "  '랭킹': '5',\n",
       "  '다른 이름': '조신제',\n",
       "  '직업': '배우',\n",
       "  '생년월일': '1979-01-16',\n",
       "  '성별': '남'},\n",
       " {'배우이름': '황정민',\n",
       "  '흥행지수': 24260,\n",
       "  '출연영화': ['인질', '와이키키 브라더스', '바람난 가족', '신세계', '내 생애 가장 아름다운 일주일'],\n",
       "  '랭킹': '6',\n",
       "  '직업': '배우',\n",
       "  '생년월일': '1970-09-01',\n",
       "  '성별': '남',\n",
       "  '신장/체중': '180cm, 75kg',\n",
       "  '학교': '서울예술대학 연극과 졸업',\n",
       "  '특기': '농구, 악기연주',\n",
       "  '소속사': '예당엔터테인먼트'},\n",
       " {'배우이름': '정만식',\n",
       "  '흥행지수': 22847,\n",
       "  '출연영화': ['모가디슈', '지푸라기라도 잡고 싶은 짐승들', '똥파리', '끝까지 간다'],\n",
       "  '랭킹': '7',\n",
       "  '직업': '배우',\n",
       "  '생년월일': '1974-12-11',\n",
       "  '성별': '남'}]"
      ]
     },
     "execution_count": 18,
     "metadata": {},
     "output_type": "execute_result"
    }
   ],
   "source": [
    "actors_info_list = list()\n",
    "\n",
    "actors = soup.select('li.people_li div.name > a') # 배우이름\n",
    "hits = soup.select('ul.num_info > li > strong') # 흥행지수\n",
    "movies = soup.select('ul.mov_list') # 출연영화 \n",
    "rankings = soup.select('li.people_li > span.grade') # 랭킹\n",
    "\n",
    "for index, actor in enumerate(actors):\n",
    "    actor_name = re.sub('\\(\\w*\\)','',actor.text)\n",
    "    actor_hits = int(hits[index].text.replace(',',''))\n",
    "    movie_titles = movies[index].select('li a span')\n",
    "    movie_title_list = list()\n",
    "    for movie_title in movie_titles:\n",
    "        movie_title_list.append(movie_title.text)\n",
    "    actor_info_dict = dict()\n",
    "    actor_info_dict['배우이름'] = actor_name\n",
    "    actor_info_dict['흥행지수'] = actor_hits\n",
    "    actor_info_dict['출연영화'] = movie_title_list\n",
    "    actor_info_dict['랭킹'] = rankings[index].text\n",
    "    \n",
    "    actor_link = 'http://www.cine21.com' + actor.attrs['href'] # 배우 링크\n",
    "    response_actor = requests.get(actor_link) # 배우 링크 가져오기\n",
    "    soup_actor = BeautifulSoup(response_actor.content, 'html.parser') # 배우 링크 파싱하기\n",
    "    default_info = soup_actor.select_one('ul.default_info') # 배우 기본 정보\n",
    "    actor_details = default_info.select('li') # 기본 정보내에서 상세정보 데이터 추출\n",
    "    \n",
    "    for actor_item in actor_details:\n",
    "        actor_item_field = actor_item.select_one('span.tit').text # 원하는 값\n",
    "        actor_item_value = re.sub('<span.*?>.*?</span>', '', str(actor_item))\n",
    "        actor_item_value = re.sub('<.*?>', '', actor_item_value) # 원하는 값\n",
    "        actor_info_dict[actor_item_field] = actor_item_value # 딕셔너리로 저장 'field':'value'\n",
    "    actors_info_list.append(actor_info_dict)\n",
    "\n",
    "actors_info_list\n",
    "    "
   ]
  },
  {
   "cell_type": "markdown",
   "id": "3eb2920d",
   "metadata": {},
   "source": [
    "### 8. 여러 페이지의 배우 상세 정보 추출하기"
   ]
  },
  {
   "cell_type": "code",
   "execution_count": 19,
   "id": "73c11191",
   "metadata": {},
   "outputs": [
    {
     "name": "stdout",
     "output_type": "stream",
     "text": [
      "[{'배우이름': '김윤석', '흥행지수': 45708, '출연영화': ['모가디슈', '타짜', '당신, 거기 있어줄래요', '화이 : 괴물을 삼킨 아이', '미성년', '1987'], '랭킹': '1', '직업': '배우', '생년월일': '1968-01-21', '성별': '남', '신장/체중': '178cm, 68kg', '학교': '동의대학교 학사', '취미': '여행, 낚시', '소속사': '심엔터테인먼트'}, {'배우이름': '조인성', '흥행지수': 39995, '출연영화': ['모가디슈', '클래식'], '랭킹': '2', '다른 이름': '趙寅成', '직업': '배우', '생년월일': '1981-07-28', '성별': '남', '신장/체중': '186cm, 72kg', '학교': '전남과학대 모델이벤트과 - 동국대 연극영화 (중퇴)', '취미': '모자모으기, 영화보기, 농구', '특기': '농구, 태권도(공인 4단)', '소속사': '싸이더스 HQ'}, {'배우이름': '허준호', '흥행지수': 34251, '출연영화': ['모가디슈', '국가부도의 날'], '랭킹': '3', '원어명': '許俊豪', '직업': '배우', '생년월일': '1964-03-03', '성별': '남', '신장/체중': '180cm, 75kg', '학교': '서울예술대학 연극과', '취미': '만화책 보기', '특기': '야구, 농구', '소속사': '지티비엔터테인먼트'}, {'배우이름': '김소진', '흥행지수': 28556, '출연영화': ['모가디슈', '스프링 송', '아이 캔 스피크', '미성년'], '랭킹': '4', '직업': '배우', '성별': '여'}, {'배우이름': '조우진', '흥행지수': 26118, '출연영화': ['발신제한', '도굴', '킹메이커', '서복', '국가부도의 날', '봉오동 전투'], '랭킹': '5', '다른 이름': '조신제', '직업': '배우', '생년월일': '1979-01-16', '성별': '남'}, {'배우이름': '황정민', '흥행지수': 24260, '출연영화': ['인질', '와이키키 브라더스', '바람난 가족', '신세계', '내 생애 가장 아름다운 일주일'], '랭킹': '6', '직업': '배우', '생년월일': '1970-09-01', '성별': '남', '신장/체중': '180cm, 75kg', '학교': '서울예술대학 연극과 졸업', '특기': '농구, 악기연주', '소속사': '예당엔터테인먼트'}, {'배우이름': '정만식', '흥행지수': 22847, '출연영화': ['모가디슈', '지푸라기라도 잡고 싶은 짐승들', '똥파리', '끝까지 간다'], '랭킹': '7', '직업': '배우', '생년월일': '1974-12-11', '성별': '남'}, {'배우이름': '차승원', '흥행지수': 22135, '출연영화': ['싱크홀', '낙원의 밤', '독전'], '랭킹': '8', '다른 이름': '車勝元', '직업': '배우', '생년월일': '1970-06-07', '성별': '남', '신장/체중': '188cm, 80kg', '학교': '성균관대학교 영상학부 (중퇴)', '취미': '헬스, 산악자전거타기', '특기': '산악자전거타기', '소속사': '(주)YG엔터테인먼트'}, {'배우이름': '김재범', '흥행지수': 20786, '출연영화': ['인질'], '랭킹': '9', '직업': '배우', '생년월일': '1979-12-01', '성별': '남', '홈페이지': '\\nhttp://twitter.com/1201jb\\n'}, {'배우이름': '김성균', '흥행지수': 20112, '출연영화': ['싱크홀', '화이 : 괴물을 삼킨 아이', '프리즌'], '랭킹': '10', '직업': '배우', '생년월일': '1980-05-25', '성별': '남', '홈페이지': '\\nhttps://twitter.com/ggubun\\n'}, {'배우이름': '한예리', '흥행지수': 19436, '출연영화': ['미나리', '최악의 하루', '더 테이블', '춘몽', '백년해로외전'], '랭킹': '11', '직업': '배우', '생년월일': '1984-12-23', '성별': '여', '홈페이지': '\\nhttps://www.facebook.com/saram.hanyeri\\n', '학교': '한국예술종합학교'}, {'배우이름': '김재화', '흥행지수': 19418, '출연영화': ['싱크홀', '모가디슈', '괴기맨숀', '액션히어로', '싸나희 순정', '숏버스 이별행'], '랭킹': '12', '직업': '배우', '생년월일': '1980-09-01', '성별': '여'}, {'배우이름': '이광수', '흥행지수': 18100, '출연영화': ['싱크홀', '해피 뉴 이어'], '랭킹': '13', '직업': '배우', '생년월일': '1985-07-14', '성별': '남', '홈페이지': '\\nhttps://twitter.com/masijacoke85\\nhttps://www.instagram.com/masijacoke850714/\\n', '신장/체중': '190cm', '소속사': '킹콩엔터테인먼트'}, {'배우이름': '이유미', '흥행지수': 17959, '출연영화': ['인질', '어른들은 몰라요', '박화영'], '랭킹': '14', '직업': '배우', '생년월일': '1994-07-18', '성별': '여', '홈페이지': '\\nhttps://www.instagram.com/youmi262/\\n'}, {'배우이름': '박정민', '흥행지수': 17242, '출연영화': ['기적', '사냥의 시간', '파수꾼', '시동', '동주', '그것만이 내 세상'], '랭킹': '15', '직업': '배우', '생년월일': '1987-02-25', '성별': '남', '신장/체중': '178cm, 63kg', '학교': '한국예술종합학교 영상원 연극원 연기과'}, {'배우이름': '구교환', '흥행지수': 17148, '출연영화': ['모가디슈', '메기', '우리 손자 베스트', '반도', '오늘영화'], '랭킹': '16', '직업': '배우', '생년월일': '1982-12-14', '성별': '남'}, {'배우이름': '김영광', '흥행지수': 16644, '출연영화': ['미션 파서블', '원더풀 고스트', '해피 뉴 이어'], '랭킹': '17', '직업': '배우', '생년월일': '1987-01-11', '성별': '남', '홈페이지': '\\nhttps://twitter.com/aksakfn12\\nhttps://www.instagram.com/aksakfn12/\\n'}, {'배우이름': '김홍파', '흥행지수': 16387, '출연영화': ['싱크홀', '괴기맨숀', '배심원들', '국가부도의 날', '신세계', '말모이'], '랭킹': '18', '직업': '배우', '생년월일': '1962-01-05', '성별': '남'}, {'배우이름': '윤여정', '흥행지수': 16362, '출연영화': ['화녀', '미나리', '지푸라기라도 잡고 싶은 짐승들', '찬실이는 복도 많지', '죽어도 좋은 경험: 천사여 악녀가 되라', '바람난 가족'], '랭킹': '19', '원어명': '윤여정', '직업': '배우', '생년월일': '1947-06-19', '성별': '여', '학교': '한양대학교 국문학 (중퇴)'}, {'배우이름': '지창욱', '흥행지수': 15522, '출연영화': ['발신제한', '조작된 도시', '너의 이름은.'], '랭킹': '20', '직업': '배우', '생년월일': '1987-07-05', '성별': '남', '홈페이지': '\\nhttps://twitter.com/jichangwook\\nhttps://www.instagram.com/jichangwook/\\n', '신장/체중': '180cm, 65kg', '학교': '단국대학교 공연영상학부', '특기': '노래, 유도, 수영', '소속사': '(주)글로리어스'}, {'배우이름': '고창석', '흥행지수': 14078, '출연영화': ['싱크홀', '서양골동양과자점 앤티크', '택시운전사', '1987'], '랭킹': '21', '직업': '배우', '생년월일': '1970-10-13', '성별': '남'}, {'배우이름': '류경수', '흥행지수': 13858, '출연영화': ['인질'], '랭킹': '22', '직업': '배우', '생년월일': '1992-10-12', '성별': '남'}, {'배우이름': '이성민', '흥행지수': 12923, '출연영화': ['기적', '제8일의 밤'], '랭킹': '23', '직업': '배우', '생년월일': '1968-10-15', '성별': '남', '신장/체중': '178cm'}, {'배우이름': '권소현', '흥행지수': 12069, '출연영화': ['싱크홀', '기도하는 남자', '미쓰백'], '랭킹': '24', '직업': '배우', '생년월일': '1987-01-29', '성별': '여'}, {'배우이름': '진경', '흥행지수': 11128, '출연영화': ['발신제한', '지푸라기라도 잡고 싶은 짐승들', '부러진 화살'], '랭킹': '25', '직업': '배우', '생년월일': '1972-03-27', '성별': '여'}, {'배우이름': '강하늘', '흥행지수': 11099, '출연영화': ['비와 당신의 이야기', '동주', '해피 뉴 이어'], '랭킹': '26', '다른 이름': '김하늘', '직업': '배우', '생년월일': '1990-02-21', '성별': '남', '홈페이지': '\\nhttp://weibo.com/galpos3?is_hot=1\\n', '신장/체중': '181cm, 70kg', '학교': '중앙대학교 연극학과'}, {'배우이름': '윤계상', '흥행지수': 10404, '출연영화': ['유체이탈자', '말모이', '죽여주는 여자'], '랭킹': '27', '다른 이름': '지오디;god', '직업': '배우', '생년월일': '1978-12-20', '성별': '남', '홈페이지': '\\nhttps://www.facebook.com/saram.yoonkyesang\\nhttps://www.instagram.com/kyesang78/\\n', '신장/체중': '182cm, 62kg', '학교': '경희대학교 포스트모던학과 휴학', '취미': '컴퓨터게임, 스노우보드', '특기': '표정연기, 춤추기'}, {'배우이름': '정재원', '흥행지수': 10393, '출연영화': ['인질'], '랭킹': '28', '직업': '배우', '성별': '남'}, {'배우이름': '김혜준', '흥행지수': 10057, '출연영화': ['싱크홀', '미성년'], '랭킹': '29', '직업': '배우', '생년월일': '1995-05-08', '성별': '여', '홈페이지': '\\nhttp://instagram.com/hyevelly0508\\n'}, {'배우이름': '박용우', '흥행지수': 9102, '출연영화': ['유체이탈자', '화이 : 괴물을 삼킨 아이'], '랭킹': '30', '직업': '배우', '생년월일': '1971-03-16', '성별': '남', '신장/체중': '176cm, 65kg', '학교': '중앙대학교 연극영화과', '취미': '볼링 , 피아노', '특기': '노래, 춤, 태권도', '소속사': '스타파크엔터테인먼트'}, {'배우이름': '김강우', '흥행지수': 8706, '출연영화': ['내일의 기억', '귀문', '돈의 맛', '새해전야', '하하하'], '랭킹': '31', '직업': '배우', '생년월일': '1978-07-11', '성별': '남', '홈페이지': '\\nhttps://www.facebook.com/cjeskangwoo\\n', '신장/체중': '180cm, 70kg', '학교': '중앙대학교 연극영화학', '취미': '영화감상, 운동', '특기': '검도', '소속사': '나무액터스'}, {'배우이름': '임윤아', '흥행지수': 8609, '출연영화': ['기적', '해피 뉴 이어'], '랭킹': '32', '다른 이름': '소녀시대; girlsgeneration; girls generation', '직업': '가수', '생년월일': '1990-05-30', '성별': '여', '홈페이지': '\\nhttps://www.instagram.com/yoona__lim/\\n', '소속사': 'SM엔터테인먼트'}, {'배우이름': '손석구', '흥행지수': 8565, '출연영화': ['연애 빠진 로맨스'], '랭킹': '33', '직업': '배우', '생년월일': '1983-00-00', '성별': '남'}, {'배우이름': '배유람', '흥행지수': 8435, '출연영화': ['내일의 기억', '파이프라인', '찬실이는 복도 많지', '연애 빠진 로맨스', '소셜포비아'], '랭킹': '34', '직업': '배우', '생년월일': '1986-08-22', '성별': '남'}, {'배우이름': '한지민', '흥행지수': 8373, '출연영화': ['조제', '해피 뉴 이어', '엔딩노트', '미쓰백', '장수상회', '김복동'], '랭킹': '35', '직업': '배우', '생년월일': '1982-11-05', '성별': '여', '홈페이지': '\\nhttps://www.instagram.com/roma.emo/\\n', '신장/체중': '160cm, 43kg', '학교': '서울여자대학교 사회사업학 학사', '소속사': '아바 엔터테인먼트'}, {'배우이름': '염혜란', '흥행지수': 8354, '출연영화': ['내일의 기억', '이웃사촌', '아이', '태일이', '빛과 철', '비밀의 정원'], '랭킹': '36', '직업': '배우', '생년월일': '1976-00-00', '성별': '여'}, {'배우이름': '이선빈', '흥행지수': 8322, '출연영화': ['미션 파서블', '오케이 마담'], '랭킹': '37', '다른 이름': '이진경', '직업': '배우', '생년월일': '1994-02-10', '성별': '여', '홈페이지': '\\nhttps://instagram.com/sunbin_eyesmag/\\n'}, {'배우이름': '남다름', '흥행지수': 8049, '출연영화': ['싱크홀', '제8일의 밤'], '랭킹': '38', '직업': '배우', '생년월일': '2002-06-13', '성별': '남'}, {'배우이름': '임지연', '흥행지수': 7802, '출연영화': ['유체이탈자'], '랭킹': '39', '직업': '배우', '성별': '여', '홈페이지': '\\nhttp://www.artistcompany.co.kr/portfolio-item/im-ji-yeon/\\n', '소속사': '아티스트컴퍼니'}, {'배우이름': '공유', '흥행지수': 7712, '출연영화': ['서복', '82년생 김지영', '김종욱 찾기'], '랭킹': '40', '다른 이름': '공지철', '직업': '배우', '생년월일': '1979-07-10', '성별': '남', '신장/체중': '184cm, 74kg', '학교': '경희대학교 연극영화 - 경희대아트퓨전디자인대학원 퍼포밍아트학', '취미': '헬스, 농구, 영화', '특기': '농구, 노래'}, {'배우이름': '공민정', '흥행지수': 7419, '출연영화': ['싸나희 순정', '좀비크러쉬: 헤이리', '아이들은 즐겁다', '연애 빠진 로맨스', '라이브 하드', '82년생 김지영'], '랭킹': '41', '다른 이름': '김민정', '직업': '배우', '생년월일': '1986-09-30', '성별': '여'}, {'배우이름': '이재인', '흥행지수': 7413, '출연영화': ['발신제한', '아이 캔 스피크', '봉오동 전투', '어른도감'], '랭킹': '42', '직업': '배우', '생년월일': '2004-02-06', '성별': '여'}, {'배우이름': '천우희', '흥행지수': 7402, '출연영화': ['비와 당신의 이야기', '메기', '뷰티 인사이드', '버티고', '감쪽같은 그녀'], '랭킹': '43', '직업': '배우', '생년월일': '1987-04-20', '성별': '여', '홈페이지': '\\nhttps://twitter.com/heeeya87\\nhttps://www.instagram.com/thousand_wooo/\\n', '학교': '경기대학교 연기학'}, {'배우이름': '이규원', '흥행지수': 6929, '출연영화': ['인질'], '랭킹': '44', '직업': '배우', '성별': '남'}, {'배우이름': '박지환', '흥행지수': 6508, '출연영화': ['유체이탈자', '지푸라기라도 잡고 싶은 짐승들', '봉오동 전투', '1987'], '랭킹': '45', '직업': '배우', '생년월일': '1980-09-05', '성별': '남'}, {'배우이름': '김희원', '흥행지수': 6374, '출연영화': ['장르만 로맨스', '이웃사촌', '담보', '국제수사', '불한당: 나쁜 놈들의 세상', '아저씨'], '랭킹': '46', '직업': '배우', '생년월일': '1971-01-10', '성별': '남', '신장/체중': '180cm', '학교': '서울예술대학 연극과', '소속사': 'DMS커뮤니케이션즈'}, {'배우이름': '유승목', '흥행지수': 6240, '출연영화': ['유체이탈자', '파이프라인', '악인전', '늑대소년', '판도라', '1987'], '랭킹': '47', '직업': '배우', '생년월일': '1969-09-14', '성별': '남'}, {'배우이름': '류승룡', '흥행지수': 6213, '출연영화': ['장르만 로맨스'], '랭킹': '48', '다른 이름': '류승용; 유승룡', '직업': '배우', '생년월일': '1970-11-29', '성별': '남', '신장/체중': '175cm, 72kg', '학교': '서울예술대학 연극', '소속사': '필름있수다'}, {'배우이름': '박보검', '흥행지수': 6169, '출연영화': ['서복'], '랭킹': '49', '직업': '배우', '생년월일': '1993-06-16', '성별': '남', '홈페이지': '\\nhttps://twitter.com/bogummy\\n'}, {'배우이름': '김슬기', '흥행지수': 6119, '출연영화': ['연애 빠진 로맨스', '국가대표2', '조작된 도시'], '랭킹': '50', '직업': '배우', '생년월일': '1991-10-10', '성별': '여', '홈페이지': '\\nhttps://www.instagram.com/s911010/\\nhttps://twitter.com/s911010\\n'}, {'배우이름': '이학주', '흥행지수': 6033, '출연영화': ['싱크홀', '협상'], '랭킹': '51', '직업': '배우', '생년월일': '1989-01-09', '성별': '남'}, {'배우이름': '박경혜', '흥행지수': 5711, '출연영화': ['모가디슈', '메기', '1987'], '랭킹': '52', '직업': '배우', '생년월일': '1993-01-05', '성별': '여', '홈페이지': '\\nhttp://instagram.com/WO_WA_EYA\\n'}, {'배우이름': '오나라', '흥행지수': 5522, '출연영화': ['장르만 로맨스', '김종욱 찾기'], '랭킹': '53', '직업': '배우', '생년월일': '1977-10-26', '성별': '여', '홈페이지': '\\nhttps://www.facebook.com/100004883104304\\n'}, {'배우이름': '설경구', '흥행지수': 5429, '출연영화': ['킹메이커', '자산어보', '불한당: 나쁜 놈들의 세상', '오아시스', '1987'], '랭킹': '54', '다른 이름': '薛景求', '직업': '배우', '생년월일': '1968-05-01', '성별': '남', '홈페이지': '\\nhttps://www.facebook.com/cjesgyeonggu\\n', '신장/체중': '175cm, 64kg', '학교': '한양대학교 연극영화과 학사'}, {'배우이름': '서예지', '흥행지수': 5319, '출연영화': ['내일의 기억'], '랭킹': '55', '직업': '배우', '생년월일': '1990-04-06', '성별': '여', '홈페이지': '\\nhttps://goldmedalist.com/ko/artistView/yeaji_seo\\n', '신장/체중': '169cm, 43kg'}, {'배우이름': '변요한', '흥행지수': 4475, '출연영화': ['자산어보', '태양은 움직이지 않는다', '당신, 거기 있어줄래요', '소셜포비아'], '랭킹': '56', '직업': '배우', '생년월일': '1986-04-29', '성별': '남', '홈페이지': '\\nhttps://www.facebook.com/saram.byunyohan\\nhttps://www.instagram.com/qusdygkssla/\\n'}, {'배우이름': '이수경', '흥행지수': 4304, '출연영화': ['기적'], '랭킹': '57', '직업': '배우', '생년월일': '1996-10-24', '성별': '여'}, {'배우이름': '이유영', '흥행지수': 4271, '출연영화': ['장르만 로맨스', '간호중', '디바', '원더풀 고스트'], '랭킹': '58', '직업': '배우', '성별': '여'}, {'배우이름': '남주혁', '흥행지수': 4184, '출연영화': ['조제'], '랭킹': '59', '직업': '배우', '생년월일': '1994-02-22', '성별': '남', '홈페이지': '\\nhttps://www.instagram.com/skawngur\\n'}, {'배우이름': '이성욱', '흥행지수': 3944, '출연영화': ['유체이탈자', '삼진그룹 영어토익반', '말모이'], '랭킹': '60', '직업': '배우', '생년월일': '1979-10-03', '성별': '남'}, {'배우이름': '이제훈', '흥행지수': 3912, '출연영화': ['도굴', '사냥의 시간', '파수꾼', '건축학개론', '아이 캔 스피크'], '랭킹': '61', '직업': '배우', '생년월일': '1984-07-04', '성별': '남', '홈페이지': '\\nhttps://www.facebook.com/saram.leejehoon\\n', '신장/체중': '176cm', '학교': '한국예술종합학교 연극원 연기과', '특기': '댄스, 노래, 무술', '소속사': '㈜사람엔터테인먼트'}, {'배우이름': '장영남', '흥행지수': 3789, '출연영화': ['F20', '늑대소년', '서복', '증인', '미쓰백', '협상'], '랭킹': '62', '원어명': '장영남', '직업': '배우', '생년월일': '1973-11-25', '성별': '여', '소속사': '멘토엔터테인먼트'}, {'배우이름': '김지호', '흥행지수': 3709, '출연영화': ['발신제한', '부러진 화살'], '랭킹': '63', '직업': '배우', '생년월일': '1974-07-22', '성별': '여', '신장/체중': '167cm, 45kg', '학교': '서울여자대학교 영문학', '취미': '비디오 감상, 클래식 음반 모으기', '특기': '수영, 영어회화', '소속사': '이야기엔터테인먼트'}, {'배우이름': '강소라', '흥행지수': 3698, '출연영화': ['비와 당신의 이야기'], '랭킹': '64', '직업': '배우', '생년월일': '1990-02-18', '성별': '여', '홈페이지': '\\nhttps://twitter.com/reveramess\\nhttps://www.instagram.com/reveramess_/\\n', '신장/체중': '168cm, 48kg', '학교': '동국대학교 연극영화과 2학년 재학중', '취미': '요가, 무용', '특기': '사진찍기(DSLR), 영어'}, {'배우이름': '이정은', '흥행지수': 3643, '출연영화': ['내가 죽던 날', '자산어보', '메이드 인 루프탑', '미쓰백', '미성년', '기생충'], '랭킹': '65', '직업': '배우', '생년월일': '1970-01-23', '성별': '여', '학교': '한양대학교'}, {'배우이름': '이호정', '흥행지수': 3464, '출연영화': ['인질'], '랭킹': '66', '직업': '모델', '생년월일': '1997-01-20', '성별': '여', '홈페이지': '\\nhttps://www.instagram.com/holly608/\\nhttps://twitter.com/hl7989\\n'}, {'배우이름': '성유빈', '흥행지수': 3456, '출연영화': ['장르만 로맨스', '아이 캔 스피크', '봉오동 전투', '윤희에게'], '랭킹': '67', '직업': '배우', '생년월일': '2000-07-25', '성별': '남', '홈페이지': '\\nhttps://www.facebook.com/%EC%84%B1%EC%9C%A0%EB%B9%88-1650644645187320/?fref=ts\\n'}, {'배우이름': '서현우', '흥행지수': 2984, '출연영화': ['유체이탈자', '혼자 사는 사람들', '괴기맨숀', '독전', '배심원들', '죽여주는 여자'], '랭킹': '68', '직업': '배우', '생년월일': '1983-11-20', '성별': '남'}, {'배우이름': '무진성', '흥행지수': 2761, '출연영화': ['장르만 로맨스'], '랭킹': '69', '다른 이름': '여의주', '직업': '배우', '생년월일': '1988-05-24', '성별': '남', '홈페이지': '\\nhttps://www.instagram.com/dmlwnv/\\n', '신장/체중': '183cm, 68kg', '학교': '동국대학교 연극영화과'}, {'배우이름': '박영남', '흥행지수': 2689, '출연영화': ['극장판 짱구는 못말려: 격돌! 낙서왕국과 얼추 네 명의 용사들', '극장판 짱구는 못말려: 신혼여행 허리케인~ 사라진 아빠!'], '랭킹': '70', '직업': '성우', '생년월일': '1946-10-08', '성별': '여'}, {'배우이름': '민도희', '흥행지수': 2675, '출연영화': ['자산어보'], '랭킹': '71', '다른 이름': '타이니지', '직업': '배우', '생년월일': '1994-09-25', '성별': '여', '홈페이지': '\\nhttps://twitter.com/dohee0925\\nhttps://instagram.com/mindohee/\\n'}, {'배우이름': '유오성', '흥행지수': 2484, '출연영화': ['강릉'], '랭킹': '72', '원어명': '劉五性', '직업': '배우', '생년월일': '1966-09-11', '성별': '남', '신장/체중': '178cm, 77kg', '학교': '한양대학교 연극영화', '취미': '여행, 독서, 영화감상', '특기': '운동'}, {'배우이름': '임성재', '흥행지수': 2447, '출연영화': ['연애 빠진 로맨스'], '랭킹': '73', '직업': '배우', '생년월일': '1987-01-18', '성별': '남'}, {'배우이름': '오정세', '흥행지수': 2408, '출연영화': ['장르만 로맨스', '콜', '스윙키즈', '나는 나를 해고하지 않는다', '조작된 도시', '똥파리'], '랭킹': '74', '직업': '배우', '생년월일': '1977-02-26', '성별': '남', '소속사': '스타파크엔터테인먼트'}, {'배우이름': '김환진', '흥행지수': 2353, '출연영화': ['극장판 짱구는 못말려: 격돌! 낙서왕국과 얼추 네 명의 용사들', '뽀로로 극장판 보물섬 대모험', '극장판 짱구는 못말려: 신혼여행 허리케인~ 사라진 아빠!'], '랭킹': '75', '직업': '성우', '생년월일': '1952-10-03', '성별': '남'}, {'배우이름': '장혁', '흥행지수': 2306, '출연영화': ['강릉'], '랭킹': '76', '다른 이름': '정용준', '직업': '배우', '생년월일': '1976-12-20', '성별': '남', '홈페이지': '\\nhttps://www.instagram.com/ajincome/\\n', '신장/체중': '175cm, 63kg', '학교': '서울예대 영화 - 단국대 연극영화학', '취미': '시나리오 창작, 영화 감상', '특기': '기계체조, 운동', '소속사': '싸이더스 HQ'}, {'배우이름': '김서형', '흥행지수': 2306, '출연영화': ['여고괴담 여섯번째 이야기: 모교', '악녀'], '랭킹': '77', '직업': '배우', '생년월일': '1976-10-28', '성별': '여', '신장/체중': '170cm, 49kg', '학교': '영동전문대학 여성교양', '취미': '헬스, 영화감상, 수영'}, {'배우이름': '박성근', '흥행지수': 2129, '출연영화': ['강릉'], '랭킹': '78', '직업': '배우', '생년월일': '1971-05-02', '성별': '남', '홈페이지': '\\nhttp://instagram.com/impsg1234\\n'}, {'배우이름': '엄지원', '흥행지수': 2093, '출연영화': ['방법: 재차의', '기담', '주홍글씨'], '랭킹': '79', '다른 이름': 'Uhm Ji won', '직업': '배우', '생년월일': '1977-12-25', '성별': '여', '홈페이지': '\\nhttps://www.instagram.com/umjeewon/\\nhttps://twitter.com/umjeewon\\n', '신장/체중': '170cm, 48kg', '학교': '경북대학교 지리학과', '취미': '수상스키, 독서', '특기': '바이올린, 노래'}, {'배우이름': '강희선', '흥행지수': 2017, '출연영화': ['극장판 짱구는 못말려: 격돌! 낙서왕국과 얼추 네 명의 용사들', '극장판 짱구는 못말려: 신혼여행 허리케인~ 사라진 아빠!'], '랭킹': '80', '직업': '성우', '생년월일': '1960-12-12', '성별': '여'}, {'배우이름': '한태린', '흥행지수': 2011, '출연영화': ['싱크홀'], '랭킹': '81', '직업': '배우', '생년월일': '1988-11-06', '성별': '여', '신장/체중': '164cm, 43kg'}, {'배우이름': '김강훈', '흥행지수': 1959, '출연영화': ['내일의 기억'], '랭킹': '82', '직업': '배우', '생년월일': '2009-06-07', '성별': '남', '홈페이지': '\\nhttp://instagram.com/kanghoon.juwon\\n'}, {'배우이름': '오대환', '흥행지수': 1951, '출연영화': ['강릉'], '랭킹': '83', '직업': '배우', '생년월일': '1979-00-00', '성별': '남', '홈페이지': '\\nhttps://www.instagram.com/daewhanoh/\\n', '신장/체중': '180cm'}, {'배우이름': '신혜선', '흥행지수': 1938, '출연영화': ['도굴'], '랭킹': '84', '직업': '배우', '생년월일': '1989-00-00', '성별': '여', '홈페이지': '\\nhttps://www.facebook.com/shs831\\n https://www.instagram.com/shinhs831/\\n'}, {'배우이름': '유인나', '흥행지수': 1859, '출연영화': ['새해전야'], '랭킹': '85', '직업': '배우', '생년월일': '1982-06-05', '성별': '여', '홈페이지': '\\nhttp://www.weibo.com/yooinnaofficial?is_hot=1\\n', '신장/체중': '165cm, 44kg', '소속사': '(주)YG엔터테인먼트'}, {'배우이름': '노회찬', '흥행지수': 1850, '출연영화': ['노회찬6411'], '랭킹': '86', '생년월일': '1956-08-31', '사망': '2018-07-23', '성별': '남', '홈페이지': '\\nhttps://twitter.com/hcroh\\nhttps://www.facebook.com/omyChans\\n'}, {'배우이름': '진선규', '흥행지수': 1837, '출연영화': ['태일이', '승리호', '불한당: 나쁜 놈들의 세상'], '랭킹': '87', '직업': '배우', '생년월일': '1977-09-13', '성별': '남'}, {'배우이름': '정지소', '흥행지수': 1824, '출연영화': ['방법: 재차의', '기생충'], '랭킹': '88', '다른 이름': '현승민', '직업': '배우', '생년월일': '1999-09-17', '성별': '여'}, {'배우이름': '차순배', '흥행지수': 1784, '출연영화': ['자산어보'], '랭킹': '89', '직업': '배우', '생년월일': '1972-10-23', '성별': '남'}, {'배우이름': '윤아영', '흥행지수': 1783, '출연영화': ['극장판 도라에몽: 진구의 신공룡', '도라에몽: 스탠바이미2'], '랭킹': '90', '직업': '성우', '생년월일': '1986-04-08', '성별': '여'}, {'배우이름': '송영규', '흥행지수': 1780, '출연영화': ['강릉', '수색자', '야구소녀'], '랭킹': '91', '직업': '배우', '생년월일': '1970-04-18', '성별': '남'}, {'배우이름': '이현균', '흥행지수': 1774, '출연영화': ['강릉', '1987'], '랭킹': '92', '직업': '배우', '생년월일': '1983-10-18', '성별': '남', '홈페이지': '\\nhttp://www.vlive.tv/channels/C4B74F\\n'}, {'배우이름': '김현수', '흥행지수': 1727, '출연영화': ['여고괴담 여섯번째 이야기: 모교'], '랭킹': '93', '직업': '배우', '생년월일': '2000-06-23', '성별': '여'}, {'배우이름': '여민정', '흥행지수': 1682, '출연영화': ['극장판 짱구는 못말려: 격돌! 낙서왕국과 얼추 네 명의 용사들', '신비아파트: 금빛 도깨비와 비밀의 동굴', '마이 리틀 포니 : 레인보우 로드 트립', '극장판 짱구는 못말려: 신혼여행 허리케인~ 사라진 아빠!'], '랭킹': '94', '직업': '성우', '생년월일': '1975-05-13', '성별': '여'}, {'배우이름': '유연석', '흥행지수': 1632, '출연영화': ['건축학개론', '늑대소년', '강철비2: 정상회담', '새해전야', '화이 : 괴물을 삼킨 아이', '뷰티 인사이드'], '랭킹': '95', '다른 이름': '안연석', '직업': '배우', '생년월일': '1984-04-11', '성별': '남', '홈페이지': '\\nhttps://twitter.com/yeonseok411\\nhttps://www.instagram.com/yoo_yeonseok/\\n', '소속사': '이야기엔터테인먼트'}, {'배우이름': '신승환', '흥행지수': 1605, '출연영화': ['강릉', '국제수사', '연애소설'], '랭킹': '96', '원어명': '신승환', '직업': '배우', '생년월일': '1978-12-12', '성별': '남'}, {'배우이름': '김소혜', '흥행지수': 1605, '출연영화': ['귀문', '윤희에게'], '랭킹': '97', '다른 이름': '아이오아이;I.O.I;', '직업': '가수', '생년월일': '1999-07-19', '성별': '여', '홈페이지': '\\nhttp://instagram.com/s_sohye\\n', '신장/체중': '164cm', '학교': '경기여자고등학교'}, {'배우이름': '정우', '흥행지수': 1594, '출연영화': ['이웃사촌'], '랭킹': '98', '원어명': '김정국', '직업': '배우', '생년월일': '1981-01-14', '성별': '남', '홈페이지': '\\nhttps://twitter.com/jungwoo109\\n', '신장/체중': '180cm, 70kg', '학교': '서울예술대학 영화과', '취미': '운동(아크로바티, 복싱, 태권도), 노래부르기'}, {'배우이름': '김정아', '흥행지수': 1583, '출연영화': ['극장판 도라에몽: 진구의 신공룡', '도라에몽: 스탠바이미2'], '랭킹': '99', '직업': '성우', '생년월일': '1974-12-06', '성별': '여'}, {'배우이름': '정문성', '흥행지수': 1563, '출연영화': ['방법: 재차의'], '랭킹': '100', '직업': '배우', '생년월일': '1981-01-13', '성별': '남', '학교': '순천향대학교 연극영화학 학사'}, {'배우이름': '박철민', '흥행지수': 1551, '출연영화': ['이웃사촌', '태일이', '아이 캔 스피크', '소리꾼', '악녀'], '랭킹': '101', '직업': '배우', '생년월일': '1967-00-00', '성별': '남', '학교': '중앙대학교 경영학 학사', '소속사': '씨에스엑터스'}, {'배우이름': '박병은', '흥행지수': 1542, '출연영화': ['서복'], '랭킹': '102', '직업': '배우', '생년월일': '1977-00-00', '성별': '남'}, {'배우이름': '진기주', '흥행지수': 1533, '출연영화': ['미드나이트', '리틀 포레스트'], '랭킹': '103', '직업': '모델', '생년월일': '1989-01-26', '성별': '여', '홈페이지': '\\nhttps://www.instagram.com/jinkijoo/\\n', '학교': '중앙대학교 컴퓨터공학부'}, {'배우이름': '권해효', '흥행지수': 1484, '출연영화': ['방법: 재차의', '태일이', '당신얼굴 앞에서', '메기', '반도', '배심원들'], '랭킹': '104', '직업': '배우', '생년월일': '1965-11-06', '성별': '남', '신장/체중': '170cm, 62kg', '학교': '한양대학교 연극영화학 졸업'}, {'배우이름': '서인국', '흥행지수': 1477, '출연영화': ['파이프라인'], '랭킹': '105', '직업': '가수', '생년월일': '1987-10-23', '성별': '남', '홈페이지': '\\nhttps://twitter.com/sigstyle1023\\nhttps://www.facebook.com/sigstyle1023\\n', '신장/체중': '180cm, 76kg', '학교': '경희사이버대학교 정보통신학', '소속사': '젤리피쉬엔터테인먼트'}, {'배우이름': '류현경', '흥행지수': 1455, '출연영화': ['아이', '장르만 로맨스', '기도하는 남자', '태양은 없다'], '랭킹': '106', '직업': '배우', '생년월일': '1983-03-10', '성별': '여', '신장/체중': '162cm', '학교': '한양대학교 연극영화과', '취미': '영화감상, 음악감상', '특기': '힙합댄스'}, {'배우이름': '문소리', '흥행지수': 1444, '출연영화': ['메기', '배심원들', '바람난 가족', '여배우는 오늘도', '세자매', '리틀 포레스트'], '랭킹': '107', '다른 이름': '文素利', '직업': '배우', '생년월일': '1974-07-02', '성별': '여', '홈페이지': '\\nhttps://www.facebook.com/cjessori/\\n', '학교': '성균관대학교 교육학', '특기': '판소리, 바이올린, 가야금'}, {'배우이름': '이동휘', '흥행지수': 1402, '출연영화': ['콜', '새해전야', '뷰티 인사이드'], '랭킹': '108', '직업': '배우', '생년월일': '1985-07-22', '성별': '남', '홈페이지': '\\nhttps://www.instagram.com/dlehdgnl/\\n'}, {'배우이름': '오달수', '흥행지수': 1396, '출연영화': ['이웃사촌', '신과 함께-죄와 벌', '국가대표2', '1987'], '랭킹': '109', '직업': '배우', '생년월일': '1968-06-15', '성별': '남', '신장/체중': '176cm, 68kg', '학교': '동의대학교 공업디자인 (중퇴)', '소속사': '빌리지엔터테인먼트'}, {'배우이름': '최희진', '흥행지수': 1381, '출연영화': ['장르만 로맨스'], '랭킹': '110', '직업': '배우', '성별': '여'}, {'배우이름': '이채영', '흥행지수': 1350, '출연영화': ['강릉', '여타짜', '요가학원: 죽음의 쿤달리니'], '랭킹': '111', '직업': '배우', '생년월일': '1986-04-29', '성별': '여', '홈페이지': '\\nhttps://instagram.com/scarletlee15\\n', '신장/체중': '170cm, 52kg', '학교': '단국대학교 연극영화 (재학)', '취미': '여행, 타로카드, 유도, 인라인, 수영'}, {'배우이름': '정유미', '흥행지수': 1344, '출연영화': ['극장판 짱구는 못말려: 격돌! 낙서왕국과 얼추 네 명의 용사들'], '랭킹': '112', '직업': '성우', '생년월일': '1978-07-27', '성별': '여'}, {'배우이름': '이수혁', '흥행지수': 1329, '출연영화': ['파이프라인'], '랭킹': '113', '다른 이름': '이혁수', '직업': '배우', '생년월일': '1988-05-31', '성별': '남', '홈페이지': '\\nhttp://instagram.com/leesoohyuk\\n', '소속사': '싸이더스 HQ'}, {'배우이름': '김인권', '흥행지수': 1303, '출연영화': ['방법: 재차의'], '랭킹': '114', '직업': '배우', '생년월일': '1978-01-20', '성별': '남', '홈페이지': '\\nhttps://twitter.com/inkwons\\n', '신장/체중': '175cm, 63kg', '학교': '동국대학교 연극영화학'}, {'배우이름': '이운산', '흥행지수': 1300, '출연영화': ['유체이탈자'], '랭킹': '115', '다른 이름': '이현배', '직업': '배우', '성별': '남', '신장/체중': '180cm, 68kg'}, {'배우이름': '최낙윤', '흥행지수': 1291, '출연영화': ['극장판 도라에몽: 진구의 신공룡', '도라에몽: 스탠바이미2'], '랭킹': '116', '직업': '성우', '생년월일': '1984-01-27', '성별': '남'}, {'배우이름': '김병철', '흥행지수': 1275, '출연영화': ['이웃사촌'], '랭킹': '117', '직업': '배우', '생년월일': '1974-00-00', '성별': '남', '학교': '중앙대학교 연극학과'}, {'배우이름': '위하준', '흥행지수': 1273, '출연영화': ['미드나이트'], '랭킹': '118', '직업': '배우', '생년월일': '1991-08-05', '성별': '남'}, {'배우이름': '찬열', '흥행지수': 1189, '출연영화': ['더 박스', '장수상회'], '랭킹': '119', '다른 이름': '박찬열; 엑소;EXO', '직업': '가수', '생년월일': '1992-11-27', '성별': '남', '홈페이지': '\\nhttps://instagram.com/real__pcy/\\n', '소속사': 'SM엔터테인먼트'}, {'배우이름': '음문석', '흥행지수': 1181, '출연영화': ['파이프라인'], '랭킹': '120', '다른 이름': 'sic', '직업': '배우', '생년월일': '1982-12-07', '성별': '남'}, {'배우이름': '이유비', '흥행지수': 1169, '출연영화': ['이웃사촌'], '랭킹': '121', '다른 이름': '이유진', '직업': '배우', '생년월일': '1990-11-22', '성별': '여', '홈페이지': '\\nhttps://twitter.com/only190lyj\\n https://www.instagram.com/yubi_190/\\n', '학교': '이화여자대학교'}, {'배우이름': '김향기', '흥행지수': 1167, '출연영화': ['아이', '신과 함께-죄와 벌', '신과 함께-인과 연', '늑대소년', '증인'], '랭킹': '122', '직업': '배우', '생년월일': '2000-08-09', '성별': '여', '홈페이지': '\\nhttps://twitter.com/smell2001\\n', '특기': '애교 부리기, 피아노 치기'}, {'배우이름': '이연희', '흥행지수': 1162, '출연영화': ['새해전야'], '랭킹': '123', '직업': '배우', '생년월일': '1988-01-09', '성별': '여', '홈페이지': '\\nhttps://www.facebook.com/leeyeonhee\\n', '신장/체중': '170cm, 46kg', '학교': '중앙대학교 연극영화학', '취미': '영화감상, 독서', '특기': '수영', '소속사': 'SM엔터테인먼트'}, {'배우이름': '최리', '흥행지수': 1152, '출연영화': ['여고괴담 여섯번째 이야기: 모교', '그것만이 내 세상'], '랭킹': '124', '직업': '배우', '생년월일': '1995-06-29', '성별': '여'}, {'배우이름': '조현철', '흥행지수': 1150, '출연영화': ['이웃사촌', '삼진그룹 영어토익반', '건축학개론', '영아', '영화로운 나날', '초행'], '랭킹': '125', '직업': '배우', '생년월일': '1986-12-24', '성별': '남', '학교': '한국예술종합학교 예술사'}, {'배우이름': '박상욱', '흥행지수': 1119, '출연영화': ['내일의 기억'], '랭킹': '126', '직업': '배우', '생년월일': '1976-01-18', '성별': '남', '소속사': '나무액터스'}, {'배우이름': '김선영', '흥행지수': 1093, '출연영화': ['내가 죽던 날', '미쓰백', '세자매', '말모이'], '랭킹': '127', '직업': '배우', '생년월일': '1976-04-10', '성별': '여'}, {'배우이름': '이현주', '흥행지수': 1091, '출연영화': ['극장판 도라에몽: 진구의 신공룡', '도라에몽: 스탠바이미2'], '랭킹': '128', '직업': '성우', '성별': '여'}, {'배우이름': '한선화', '흥행지수': 1091, '출연영화': ['강릉', '영화의 거리'], '랭킹': '129', '다른 이름': '시크릿', '직업': '가수', '생년월일': '1990-10-06', '성별': '여', '홈페이지': '\\nhttps://www.instagram.com/shh_daily/\\nhttps://twitter.com/seonhwazzz\\n'}, {'배우이름': '이정형', '흥행지수': 1067, '출연영화': ['귀문'], '랭킹': '130', '직업': '배우', '생년월일': '1990-02-08', '성별': '남'}, {'배우이름': '고규필', '흥행지수': 1043, '출연영화': ['방법: 재차의', '정직한 후보', '감쪽같은 그녀'], '랭킹': '131', '직업': '배우', '생년월일': '1982-05-02', '성별': '남'}, {'배우이름': '박훈', '흥행지수': 1018, '출연영화': ['미드나이트'], '랭킹': '132', '직업': '배우', '성별': '남'}, {'배우이름': '엄상현', '흥행지수': 1017, '출연영화': ['퍼피 구조대 더 무비', '바다 탐험대 옥토넛 : 육지수호 대작전', '극장판 바다 탐험대 옥토넛: 대산호초 보호작전', '극장판 바다 탐험대 옥토넛: 불의 고리 대폭발', '런닝맨: 풀룰루의 역습', '바다 탐험대 옥토넛 시즌4: 바다 괴물 대소동'], '랭킹': '133', '직업': '성우', '생년월일': '1971-12-29', '성별': '남'}, {'배우이름': '강새봄', '흥행지수': 1008, '출연영화': ['극장판 짱구는 못말려: 격돌! 낙서왕국과 얼추 네 명의 용사들'], '랭킹': '134', '다른 이름': '강예솔', '직업': '성우', '성별': '여', '학교': '서울대학교 국악과'}, {'배우이름': '임원희', '흥행지수': 990, '출연영화': ['도굴', '신과 함께-죄와 벌', '신과 함께-인과 연', '죽거나 혹은 나쁘거나'], '랭킹': '135', '직업': '배우', '생년월일': '1970-10-11', '성별': '남', '신장/체중': '175cm, 68kg', '학교': '서울예술대학 연극', '소속사': '빌리지엔터테인먼트'}, {'배우이름': '송가인', '흥행지수': 989, '출연영화': ['송가인 더 드라마'], '랭킹': '136', '다른 이름': '조은심', '직업': '가수', '생년월일': '1986-12-26', '성별': '여', '홈페이지': '\\nhttp://instagram.com/songgain_\\nhttp://www.facebook.com/eunsim.jo.9\\n'}, {'배우이름': '김선경', '흥행지수': 957, '출연영화': ['이웃사촌'], '랭킹': '137', '직업': '배우', '생년월일': '1968-01-26', '성별': '여', '신장/체중': '166cm, 52kg', '학교': '총신대학교 종교음악과,경희대학교대학원'}, {'배우이름': '박근형', '흥행지수': 953, '출연영화': ['아들의 이름으로', '동백', '장수상회', '증인'], '랭킹': '138', '직업': '배우', '생년월일': '1940-06-07', '성별': '남', '신장/체중': '177cm, 80kg', '학교': '중앙대학교 연극영화학', '취미': '낚시, 골프', '특기': '수영'}, {'배우이름': '김준배', '흥행지수': 917, '출연영화': ['강릉', '악인은 너무 많다 2: 제주 실종사건의 전말', '부러진 화살', '바람의 언덕', '잉투기'], '랭킹': '139', '다른 이름': '김태한', '직업': '배우', '생년월일': '1969-07-16', '성별': '남'}, {'배우이름': '태항호', '흥행지수': 913, '출연영화': ['파이프라인', '이 안에 외계인이 있다'], '랭킹': '140', '직업': '배우', '생년월일': '1983-07-22', '성별': '남'}]\n"
     ]
    }
   ],
   "source": [
    "from bs4 import BeautifulSoup\n",
    "import requests\n",
    "import pymongo\n",
    "import re\n",
    "\n",
    "actors_info_list = list()\n",
    "\n",
    "cine21_url = 'http://www.cine21.com/rank/person/content'\n",
    "post_data = dict()\n",
    "post_data['section']='actor'\n",
    "post_data['period_start']='2020-12'\n",
    "post_data['gender']='all'\n",
    "\n",
    "for index in range(1,21):\n",
    "    post_data['page'] = index\n",
    "    \n",
    "    res = requests.post(cine21_url, data=post_data)\n",
    "    soup = BeautifulSoup(res.content, 'html.parser')\n",
    "    \n",
    "    actors = soup.select('li.people_li div.name > a') # 배우이름\n",
    "    hits = soup.select('ul.num_info > li > strong') # 흥행지수\n",
    "    movies = soup.select('ul.mov_list') # 출연영화 \n",
    "    rankings = soup.select('li.people_li > span.grade') # 랭킹\n",
    "\n",
    "    for index, actor in enumerate(actors):\n",
    "        actor_name = re.sub('\\(\\w*\\)','',actor.text)\n",
    "        actor_hits = int(hits[index].text.replace(',',''))\n",
    "        movie_titles = movies[index].select('li a span')\n",
    "        movie_title_list = list()\n",
    "        for movie_title in movie_titles:\n",
    "            movie_title_list.append(movie_title.text)\n",
    "\n",
    "        actor_info_dict = dict()\n",
    "        actor_info_dict['배우이름'] = actor_name\n",
    "        actor_info_dict['흥행지수'] = actor_hits\n",
    "        actor_info_dict['출연영화'] = movie_title_list\n",
    "        actor_info_dict['랭킹'] = rankings[index].text\n",
    "\n",
    "        actor_link = 'http://www.cine21.com' + actor.attrs['href'] # 배우 링크\n",
    "        response_actor = requests.get(actor_link) # 배우 링크 가져오기\n",
    "        soup_actor = BeautifulSoup(response_actor.content, 'html.parser') # 배우 링크 파싱하기\n",
    "        default_info = soup_actor.select_one('ul.default_info') # 배우 기본 정보\n",
    "        actor_details = default_info.select('li') # 기본 정보내에서 상세정보 데이터 추출\n",
    "\n",
    "        for actor_item in actor_details:\n",
    "            actor_item_field = actor_item.select_one('span.tit').text # 원하는 값\n",
    "            actor_item_value = re.sub('<span.*?>.*?</span>', '', str(actor_item))\n",
    "            actor_item_value = re.sub('<.*?>', '', actor_item_value) # 원하는 값\n",
    "            actor_info_dict[actor_item_field] = actor_item_value # 딕셔너리로 저장 'field':'value'\n",
    "        actors_info_list.append(actor_info_dict)\n",
    "\n",
    "print(actors_info_list)"
   ]
  },
  {
   "cell_type": "markdown",
   "id": "f720385f",
   "metadata": {},
   "source": [
    "### 9. mongodb에 크롤링 데이터 저장하기"
   ]
  },
  {
   "cell_type": "code",
   "execution_count": null,
   "id": "b81e4b1c",
   "metadata": {},
   "outputs": [],
   "source": [
    "conn = pymongo.MongoClient()\n",
    "actor_db = conn.cine21\n",
    "actor_collection = actor_db.actor_collection\n",
    "\n",
    "actor_collection.insert_many(actors_info_list)"
   ]
  },
  {
   "cell_type": "code",
   "execution_count": null,
   "id": "c6900973",
   "metadata": {},
   "outputs": [],
   "source": [
    "actor_collection.delete_many({})"
   ]
  },
  {
   "cell_type": "markdown",
   "id": "2274a4b9",
   "metadata": {},
   "source": [
    "### 10. 배우 랭킹 및 상세 정보 클롤링 및 mongodb 저장"
   ]
  },
  {
   "cell_type": "code",
   "execution_count": null,
   "id": "372e374b",
   "metadata": {},
   "outputs": [],
   "source": [
    "from bs4 import BeautifulSoup\n",
    "import requests\n",
    "import pymongo\n",
    "import re\n",
    "\n",
    "conn = pymongo.MongoClient()\n",
    "actor_db = conn.cine21\n",
    "actor_collection = actor_db.actor_collection\n",
    "\n",
    "actors_info_list = list()\n",
    "\n",
    "cine21_url = 'http://www.cine21.com/rank/person/content'\n",
    "post_data = dict()\n",
    "post_data['section']='actor'\n",
    "post_data['period_start']='2020-12'\n",
    "post_data['gender']='all'\n",
    "\n",
    "for index in range(1,21):\n",
    "    post_data['page'] = index\n",
    "    \n",
    "    res = requests.post(cine21_url, data=post_data)\n",
    "    soup = BeautifulSoup(res.content, 'html.parser')\n",
    "    \n",
    "    actors = soup.select('li.people_li div.name > a') # 배우이름\n",
    "    hits = soup.select('ul.num_info > li > strong') # 흥행지수\n",
    "    movies = soup.select('ul.mov_list') # 출연영화 \n",
    "    rankings = soup.select('li.people_li > span.grade') # 랭킹\n",
    "\n",
    "    for index, actor in enumerate(actors):\n",
    "        actor_name = re.sub('\\(\\w*\\)','',actor.text)\n",
    "        actor_hits = int(hits[index].text.replace(',',''))\n",
    "        movie_titles = movies[index].select('li a span')\n",
    "        movie_title_list = list()\n",
    "        for movie_title in movie_titles:\n",
    "            movie_title_list.append(movie_title.text)\n",
    "\n",
    "        actor_info_dict = dict()\n",
    "        actor_info_dict['배우이름'] = actor_name\n",
    "        actor_info_dict['흥행지수'] = actor_hits\n",
    "        actor_info_dict['출연영화'] = movie_title_list\n",
    "        actor_info_dict['랭킹'] = rankings[index].text\n",
    "\n",
    "        actor_link = 'http://www.cine21.com' + actor.attrs['href'] # 배우 링크\n",
    "        response_actor = requests.get(actor_link) # 배우 링크 가져오기\n",
    "        soup_actor = BeautifulSoup(response_actor.content, 'html.parser') # 배우 링크 파싱하기\n",
    "        default_info = soup_actor.select_one('ul.default_info') # 배우 기본 정보\n",
    "        actor_details = default_info.select('li') # 기본 정보내에서 상세정보 데이터 추출\n",
    "\n",
    "        for actor_item in actor_details:\n",
    "            actor_item_field = actor_item.select_one('span.tit').text # 원하는 값\n",
    "            actor_item_value = re.sub('<span.*?>.*?</span>', '', str(actor_item))\n",
    "            actor_item_value = re.sub('<.*?>', '', actor_item_value) # 원하는 값\n",
    "            actor_info_dict[actor_item_field] = actor_item_value # 딕셔너리로 저장 'field':'value'\n",
    "        actors_info_list.append(actor_info_dict)\n",
    "        \n",
    "actor_collection.insert_many(actors_info_list)"
   ]
  }
 ],
 "metadata": {
  "kernelspec": {
   "display_name": "Python 3 (ipykernel)",
   "language": "python",
   "name": "python3"
  },
  "language_info": {
   "codemirror_mode": {
    "name": "ipython",
    "version": 3
   },
   "file_extension": ".py",
   "mimetype": "text/x-python",
   "name": "python",
   "nbconvert_exporter": "python",
   "pygments_lexer": "ipython3",
   "version": "3.9.7"
  }
 },
 "nbformat": 4,
 "nbformat_minor": 5
}
