{
 "cells": [
  {
   "cell_type": "markdown",
   "id": "8924350e",
   "metadata": {},
   "source": [
    "### 4. parsing과 배우 이름 추출"
   ]
  },
  {
   "cell_type": "code",
   "execution_count": 1,
   "id": "b319efae",
   "metadata": {},
   "outputs": [],
   "source": [
    "from bs4 import BeautifulSoup\n",
    "import requests\n",
    "import re\n",
    "\n",
    "cine21_url = 'http://www.cine21.com/rank/person/content'\n",
    "post_data = dict()\n",
    "post_data['section']='actor'\n",
    "post_data['period_start']='2020-12'\n",
    "post_data['gender']='all'\n",
    "post_data['page']=1\n",
    "res = requests.post(cine21_url, data=post_data)\n",
    "\n",
    "soup = BeautifulSoup(res.content, 'html.parser')"
   ]
  },
  {
   "cell_type": "code",
   "execution_count": 2,
   "id": "fddc20cd",
   "metadata": {},
   "outputs": [
    {
     "name": "stdout",
     "output_type": "stream",
     "text": [
      "김윤석(6편)\n",
      "조인성(2편)\n",
      "허준호(2편)\n",
      "김소진(4편)\n",
      "조우진(7편)\n",
      "황정민(5편)\n",
      "정만식(4편)\n"
     ]
    }
   ],
   "source": [
    "actors = soup.select('li.people_li div.name > a') # li는 리스트를 의미\n",
    "for actor in actors:\n",
    "    print(actor.text)"
   ]
  },
  {
   "cell_type": "code",
   "execution_count": 3,
   "id": "11de3165",
   "metadata": {},
   "outputs": [
    {
     "data": {
      "text/plain": [
       "'임지연'"
      ]
     },
     "execution_count": 3,
     "metadata": {},
     "output_type": "execute_result"
    }
   ],
   "source": [
    "test_data = '임지연(1편)'\n",
    "re.sub('\\(\\w*\\)','',test_data) # \\( \\w * \\)"
   ]
  },
  {
   "cell_type": "code",
   "execution_count": 4,
   "id": "76828d43",
   "metadata": {},
   "outputs": [
    {
     "name": "stdout",
     "output_type": "stream",
     "text": [
      "김윤석\n",
      "조인성\n",
      "허준호\n",
      "김소진\n",
      "조우진\n",
      "황정민\n",
      "정만식\n"
     ]
    }
   ],
   "source": [
    "actors = soup.select('li.people_li div.name > a') # li는 리스트를 의미\n",
    "for actor in actors:\n",
    "    print(re.sub('\\(\\w*\\)', '', actor.text))"
   ]
  }
 ],
 "metadata": {
  "kernelspec": {
   "display_name": "Python 3 (ipykernel)",
   "language": "python",
   "name": "python3"
  },
  "language_info": {
   "codemirror_mode": {
    "name": "ipython",
    "version": 3
   },
   "file_extension": ".py",
   "mimetype": "text/x-python",
   "name": "python",
   "nbconvert_exporter": "python",
   "pygments_lexer": "ipython3",
   "version": "3.9.7"
  }
 },
 "nbformat": 4,
 "nbformat_minor": 5
}
