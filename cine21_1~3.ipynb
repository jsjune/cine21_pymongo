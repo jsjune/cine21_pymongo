{
 "cells": [
  {
   "cell_type": "markdown",
   "id": "0cced000",
   "metadata": {},
   "source": [
    "# 크롤링과 데이터베이스 \n",
    "\n",
    "* cine21 배우 랭킹 사이트 크롤링\n",
    "  - 사이트 주소: http://www.cine21.com/rank/person/\n",
    "  - 요청 방식 확인 방법: 크롬 개발자 모드로 들어가서, Network -> content 페이지의 요청 방식 확인 (Preserve log, All 체크)\n",
    "    - Request URL: http://www.cine21.com/rank/person/content\n",
    "    - Request Method: POST\n",
    "    - Form data (payload)\n",
    "      - section = 'actor'\n",
    "      - period_start = '2020-12'\n",
    "      - gender = 'all'\n",
    "      - page = 1 "
   ]
  },
  {
   "cell_type": "markdown",
   "id": "069f3800",
   "metadata": {},
   "source": [
    "### 1. 라이브러리 import"
   ]
  },
  {
   "cell_type": "code",
   "execution_count": 1,
   "id": "6d51f22a",
   "metadata": {},
   "outputs": [],
   "source": [
    "from bs4 import BeautifulSoup\n",
    "import requests\n",
    "import pymongo\n",
    "import re"
   ]
  },
  {
   "cell_type": "markdown",
   "id": "caae8d8d",
   "metadata": {},
   "source": [
    "### 2. mongodb connection"
   ]
  },
  {
   "cell_type": "code",
   "execution_count": 2,
   "id": "a8f8328e",
   "metadata": {},
   "outputs": [],
   "source": [
    "conn = pymongo.MongoClient()\n",
    "actor_db = conn.cine21 # cine21 데이터베이스 생성\n",
    "actor_collection = actor_db.actor_collection # actor_collection 컬렉션 생성"
   ]
  },
  {
   "cell_type": "markdown",
   "id": "0d377f78",
   "metadata": {},
   "source": [
    "### 3. 크롤링 주소 requests"
   ]
  },
  {
   "cell_type": "code",
   "execution_count": 3,
   "id": "1a64eaac",
   "metadata": {},
   "outputs": [],
   "source": [
    "cine21_url = 'http://www.cine21.com/rank/person/content'\n",
    "post_data = dict()\n",
    "post_data['section']='actor'\n",
    "post_data['period_start']='2020-12'\n",
    "post_data['gender']='all'\n",
    "post_data['page']=1\n",
    "\n",
    "res = requests.post(cine21_url, data=post_data)"
   ]
  }
 ],
 "metadata": {
  "kernelspec": {
   "display_name": "Python 3 (ipykernel)",
   "language": "python",
   "name": "python3"
  },
  "language_info": {
   "codemirror_mode": {
    "name": "ipython",
    "version": 3
   },
   "file_extension": ".py",
   "mimetype": "text/x-python",
   "name": "python",
   "nbconvert_exporter": "python",
   "pygments_lexer": "ipython3",
   "version": "3.9.7"
  }
 },
 "nbformat": 4,
 "nbformat_minor": 5
}
